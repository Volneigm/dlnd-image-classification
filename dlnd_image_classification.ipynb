{
 "cells": [
  {
   "cell_type": "markdown",
   "metadata": {
    "collapsed": true
   },
   "source": [
    "# Image Classification\n",
    "In this project, you'll classify images from the [CIFAR-10 dataset](https://www.cs.toronto.edu/~kriz/cifar.html).  The dataset consists of airplanes, dogs, cats, and other objects. You'll preprocess the images, then train a convolutional neural network on all the samples. The images need to be normalized and the labels need to be one-hot encoded.  You'll get to apply what you learned and build a convolutional, max pooling, dropout, and fully connected layers.  At the end, you'll get to see your neural network's predictions on the sample images.\n",
    "## Get the Data\n",
    "Run the following cell to download the [CIFAR-10 dataset for python](https://www.cs.toronto.edu/~kriz/cifar-10-python.tar.gz)."
   ]
  },
  {
   "cell_type": "code",
   "execution_count": 1,
   "metadata": {},
   "outputs": [
    {
     "name": "stdout",
     "output_type": "stream",
     "text": [
      "All files found!\n"
     ]
    }
   ],
   "source": [
    "\"\"\"\n",
    "DON'T MODIFY ANYTHING IN THIS CELL THAT IS BELOW THIS LINE\n",
    "\"\"\"\n",
    "from urllib.request import urlretrieve\n",
    "from os.path import isfile, isdir\n",
    "from tqdm import tqdm\n",
    "import problem_unittests as tests\n",
    "import tarfile\n",
    "\n",
    "cifar10_dataset_folder_path = 'cifar-10-batches-py'\n",
    "\n",
    "# Use Floyd's cifar-10 dataset if present\n",
    "floyd_cifar10_location = '/cifar/cifar-10-python.tar.gz'\n",
    "if isfile(floyd_cifar10_location):\n",
    "    tar_gz_path = floyd_cifar10_location\n",
    "else:\n",
    "    tar_gz_path = 'cifar-10-python.tar.gz'\n",
    "\n",
    "class DLProgress(tqdm):\n",
    "    last_block = 0\n",
    "\n",
    "    def hook(self, block_num=1, block_size=1, total_size=None):\n",
    "        self.total = total_size\n",
    "        self.update((block_num - self.last_block) * block_size)\n",
    "        self.last_block = block_num\n",
    "\n",
    "if not isfile(tar_gz_path):\n",
    "    with DLProgress(unit='B', unit_scale=True, miniters=1, desc='CIFAR-10 Dataset') as pbar:\n",
    "        urlretrieve(\n",
    "            'https://www.cs.toronto.edu/~kriz/cifar-10-python.tar.gz',\n",
    "            tar_gz_path,\n",
    "            pbar.hook)\n",
    "\n",
    "if not isdir(cifar10_dataset_folder_path):\n",
    "    with tarfile.open(tar_gz_path) as tar:\n",
    "        tar.extractall()\n",
    "        tar.close()\n",
    "\n",
    "\n",
    "tests.test_folder_path(cifar10_dataset_folder_path)"
   ]
  },
  {
   "cell_type": "markdown",
   "metadata": {},
   "source": [
    "## Explore the Data\n",
    "The dataset is broken into batches to prevent your machine from running out of memory.  The CIFAR-10 dataset consists of 5 batches, named `data_batch_1`, `data_batch_2`, etc.. Each batch contains the labels and images that are one of the following:\n",
    "* airplane\n",
    "* automobile\n",
    "* bird\n",
    "* cat\n",
    "* deer\n",
    "* dog\n",
    "* frog\n",
    "* horse\n",
    "* ship\n",
    "* truck\n",
    "\n",
    "Understanding a dataset is part of making predictions on the data.  Play around with the code cell below by changing the `batch_id` and `sample_id`. The `batch_id` is the id for a batch (1-5). The `sample_id` is the id for a image and label pair in the batch.\n",
    "\n",
    "Ask yourself \"What are all possible labels?\", \"What is the range of values for the image data?\", \"Are the labels in order or random?\".  Answers to questions like these will help you preprocess the data and end up with better predictions."
   ]
  },
  {
   "cell_type": "code",
   "execution_count": 2,
   "metadata": {},
   "outputs": [
    {
     "name": "stdout",
     "output_type": "stream",
     "text": [
      "\n",
      "Stats of batch 1:\n",
      "Samples: 10000\n",
      "Label Counts: {0: 1005, 1: 974, 2: 1032, 3: 1016, 4: 999, 5: 937, 6: 1030, 7: 1001, 8: 1025, 9: 981}\n",
      "First 20 Labels: [6, 9, 9, 4, 1, 1, 2, 7, 8, 3, 4, 7, 7, 2, 9, 9, 9, 3, 2, 6]\n",
      "\n",
      "Example of Image 5:\n",
      "Image - Min Value: 0 Max Value: 252\n",
      "Image - Shape: (32, 32, 3)\n",
      "Label - Label Id: 1 Name: automobile\n"
     ]
    },
    {
     "data": {
      "image/png": "[encoded data removed]",
      "text/plain": [
       "<matplotlib.figure.Figure at 0x1a3f4387278>"
      ]
     },
     "metadata": {
      "image/png": {
       "height": 250,
       "width": 253
      }
     },
     "output_type": "display_data"
    }
   ],
   "source": [
    "%matplotlib inline\n",
    "%config InlineBackend.figure_format = 'retina'\n",
    "\n",
    "import helper\n",
    "import numpy as np\n",
    "\n",
    "# Explore the dataset\n",
    "batch_id = 1\n",
    "sample_id = 5\n",
    "helper.display_stats(cifar10_dataset_folder_path, batch_id, sample_id)"
   ]
  },
  {
   "cell_type": "markdown",
   "metadata": {},
   "source": [
    "## Implement Preprocess Functions\n",
    "### Normalize\n",
    "In the cell below, implement the `normalize` function to take in image data, `x`, and return it as a normalized Numpy array. The values should be in the range of 0 to 1, inclusive.  The return object should be the same shape as `x`."
   ]
  },
  {
   "cell_type": "code",
   "execution_count": 3,
   "metadata": {},
   "outputs": [
    {
     "name": "stdout",
     "output_type": "stream",
     "text": [
      "Tests Passed\n"
     ]
    }
   ],
   "source": [
    "def normalize(x):\n",
    "    \"\"\"\n",
    "    Normalize a list of sample image data in the range of 0 to 1\n",
    "    : x: List of image data.  The image shape is (32, 32, 3)\n",
    "    : return: Numpy array of normalize data\n",
    "    \"\"\"\n",
    "    # TODO: Implement Function\n",
    "    \n",
    "    return x/255\n",
    "\n",
    "\n",
    "\"\"\"\n",
    "DON'T MODIFY ANYTHING IN THIS CELL THAT IS BELOW THIS LINE\n",
    "\"\"\"\n",
    "tests.test_normalize(normalize)"
   ]
  },
  {
   "cell_type": "markdown",
   "metadata": {},
   "source": [
    "### One-hot encode\n",
    "Just like the previous code cell, you'll be implementing a function for preprocessing.  This time, you'll implement the `one_hot_encode` function. The input, `x`, are a list of labels.  Implement the function to return the list of labels as One-Hot encoded Numpy array.  The possible values for labels are 0 to 9. The one-hot encoding function should return the same encoding for each value between each call to `one_hot_encode`.  Make sure to save the map of encodings outside the function.\n",
    "\n",
    "Hint: Don't reinvent the wheel."
   ]
  },
  {
   "cell_type": "code",
   "execution_count": 4,
   "metadata": {},
   "outputs": [
    {
     "name": "stdout",
     "output_type": "stream",
     "text": [
      "Tests Passed\n"
     ]
    }
   ],
   "source": [
    "def one_hot_encode(x):\n",
    "    \"\"\"\n",
    "    One hot encode a list of sample labels. Return a one-hot encoded vector for each label.\n",
    "    : x: List of sample Labels\n",
    "    : return: Numpy array of one-hot encoded labels\n",
    "    \"\"\"\n",
    "    # TODO: Implement Function\n",
    "    x_list = list()\n",
    "    for i in x:\n",
    "        n_labels = np.zeros(10)\n",
    "        np.put(n_labels, i, 1)\n",
    "        x_list.append(n_labels)\n",
    "        \n",
    "    return np.array(x_list)\n",
    "\n",
    "\n",
    "\"\"\"\n",
    "DON'T MODIFY ANYTHING IN THIS CELL THAT IS BELOW THIS LINE\n",
    "\"\"\"\n",
    "tests.test_one_hot_encode(one_hot_encode)"
   ]
  },
  {
   "cell_type": "markdown",
   "metadata": {},
   "source": [
    "### Randomize Data\n",
    "As you saw from exploring the data above, the order of the samples are randomized.  It doesn't hurt to randomize it again, but you don't need to for this dataset."
   ]
  },
  {
   "cell_type": "markdown",
   "metadata": {},
   "source": [
    "## Preprocess all the data and save it\n",
    "Running the code cell below will preprocess all the CIFAR-10 data and save it to file. The code below also uses 10% of the training data for validation."
   ]
  },
  {
   "cell_type": "code",
   "execution_count": 5,
   "metadata": {},
   "outputs": [],
   "source": [
    "\"\"\"\n",
    "DON'T MODIFY ANYTHING IN THIS CELL\n",
    "\"\"\"\n",
    "# Preprocess Training, Validation, and Testing Data\n",
    "helper.preprocess_and_save_data(cifar10_dataset_folder_path, normalize, one_hot_encode)"
   ]
  },
  {
   "cell_type": "markdown",
   "metadata": {},
   "source": [
    "# Check Point\n",
    "This is your first checkpoint.  If you ever decide to come back to this notebook or have to restart the notebook, you can start from here.  The preprocessed data has been saved to disk."
   ]
  },
  {
   "cell_type": "code",
   "execution_count": 6,
   "metadata": {},
   "outputs": [],
   "source": [
    "\"\"\"\n",
    "DON'T MODIFY ANYTHING IN THIS CELL\n",
    "\"\"\"\n",
    "import pickle\n",
    "import problem_unittests as tests\n",
    "import helper\n",
    "\n",
    "# Load the Preprocessed Validation data\n",
    "valid_features, valid_labels = pickle.load(open('preprocess_validation.p', mode='rb'))"
   ]
  },
  {
   "cell_type": "markdown",
   "metadata": {},
   "source": [
    "## Build the network\n",
    "For the neural network, you'll build each layer into a function.  Most of the code you've seen has been outside of functions. To test your code more thoroughly, we require that you put each layer in a function.  This allows us to give you better feedback and test for simple mistakes using our unittests before you submit your project.\n",
    "\n",
    ">**Note:** If you're finding it hard to dedicate enough time for this course each week, we've provided a small shortcut to this part of the project. In the next couple of problems, you'll have the option to use classes from the [TensorFlow Layers](https://www.tensorflow.org/api_docs/python/tf/layers) or [TensorFlow Layers (contrib)](https://www.tensorflow.org/api_guides/python/contrib.layers) packages to build each layer, except the layers you build in the \"Convolutional and Max Pooling Layer\" section.  TF Layers is similar to Keras's and TFLearn's abstraction to layers, so it's easy to pickup.\n",
    "\n",
    ">However, if you would like to get the most out of this course, try to solve all the problems _without_ using anything from the TF Layers packages. You **can** still use classes from other packages that happen to have the same name as ones you find in TF Layers! For example, instead of using the TF Layers version of the `conv2d` class, [tf.layers.conv2d](https://www.tensorflow.org/api_docs/python/tf/layers/conv2d), you would want to use the TF Neural Network version of `conv2d`, [tf.nn.conv2d](https://www.tensorflow.org/api_docs/python/tf/nn/conv2d). \n",
    "\n",
    "Let's begin!\n",
    "\n",
    "### Input\n",
    "The neural network needs to read the image data, one-hot encoded labels, and dropout keep probability. Implement the following functions\n",
    "* Implement `neural_net_image_input`\n",
    " * Return a [TF Placeholder](https://www.tensorflow.org/api_docs/python/tf/placeholder)\n",
    " * Set the shape using `image_shape` with batch size set to `None`.\n",
    " * Name the TensorFlow placeholder \"x\" using the TensorFlow `name` parameter in the [TF Placeholder](https://www.tensorflow.org/api_docs/python/tf/placeholder).\n",
    "* Implement `neural_net_label_input`\n",
    " * Return a [TF Placeholder](https://www.tensorflow.org/api_docs/python/tf/placeholder)\n",
    " * Set the shape using `n_classes` with batch size set to `None`.\n",
    " * Name the TensorFlow placeholder \"y\" using the TensorFlow `name` parameter in the [TF Placeholder](https://www.tensorflow.org/api_docs/python/tf/placeholder).\n",
    "* Implement `neural_net_keep_prob_input`\n",
    " * Return a [TF Placeholder](https://www.tensorflow.org/api_docs/python/tf/placeholder) for dropout keep probability.\n",
    " * Name the TensorFlow placeholder \"keep_prob\" using the TensorFlow `name` parameter in the [TF Placeholder](https://www.tensorflow.org/api_docs/python/tf/placeholder).\n",
    "\n",
    "These names will be used at the end of the project to load your saved model.\n",
    "\n",
    "Note: `None` for shapes in TensorFlow allow for a dynamic size."
   ]
  },
  {
   "cell_type": "code",
   "execution_count": 7,
   "metadata": {},
   "outputs": [
    {
     "name": "stdout",
     "output_type": "stream",
     "text": [
      "Image Input Tests Passed.\n",
      "Label Input Tests Passed.\n",
      "Keep Prob Tests Passed.\n"
     ]
    }
   ],
   "source": [
    "import tensorflow as tf\n",
    "\n",
    "def neural_net_image_input(image_shape):\n",
    "    \"\"\"\n",
    "    Return a Tensor for a batch of image input\n",
    "    : image_shape: Shape of the images\n",
    "    : return: Tensor for image input.\n",
    "    \"\"\"\n",
    "    # TODO: Implement Function\n",
    "    \n",
    "    return tf.placeholder(tf.float32, shape=[None, image_shape[0], image_shape[1], image_shape[2]], name='x')\n",
    "\n",
    "\n",
    "def neural_net_label_input(n_classes):\n",
    "    \"\"\"\n",
    "    Return a Tensor for a batch of label input\n",
    "    : n_classes: Number of classes\n",
    "    : return: Tensor for label input.\n",
    "    \"\"\"\n",
    "    # TODO: Implement Function\n",
    "    return tf.placeholder(tf.float32, shape=[None, n_classes], name='y')\n",
    "\n",
    "\n",
    "def neural_net_keep_prob_input():\n",
    "    \"\"\"\n",
    "    Return a Tensor for keep probability\n",
    "    : return: Tensor for keep probability.\n",
    "    \"\"\"\n",
    "    # TODO: Implement Function\n",
    "    return tf.placeholder(tf.float32, name='keep_prob')\n",
    "\n",
    "\n",
    "\"\"\"\n",
    "DON'T MODIFY ANYTHING IN THIS CELL THAT IS BELOW THIS LINE\n",
    "\"\"\"\n",
    "tf.reset_default_graph()\n",
    "tests.test_nn_image_inputs(neural_net_image_input)\n",
    "tests.test_nn_label_inputs(neural_net_label_input)\n",
    "tests.test_nn_keep_prob_inputs(neural_net_keep_prob_input)"
   ]
  },
  {
   "cell_type": "markdown",
   "metadata": {},
   "source": [
    "### Convolution and Max Pooling Layer\n",
    "Convolution layers have a lot of success with images. For this code cell, you should implement the function `conv2d_maxpool` to apply convolution then max pooling:\n",
    "* Create the weight and bias using `conv_ksize`, `conv_num_outputs` and the shape of `x_tensor`.\n",
    "* Apply a convolution to `x_tensor` using weight and `conv_strides`.\n",
    " * We recommend you use same padding, but you're welcome to use any padding.\n",
    "* Add bias\n",
    "* Add a nonlinear activation to the convolution.\n",
    "* Apply Max Pooling using `pool_ksize` and `pool_strides`.\n",
    " * We recommend you use same padding, but you're welcome to use any padding.\n",
    "\n",
    "**Note:** You **can't** use [TensorFlow Layers](https://www.tensorflow.org/api_docs/python/tf/layers) or [TensorFlow Layers (contrib)](https://www.tensorflow.org/api_guides/python/contrib.layers) for **this** layer, but you can still use TensorFlow's [Neural Network](https://www.tensorflow.org/api_docs/python/tf/nn) package. You may still use the shortcut option for all the **other** layers."
   ]
  },
  {
   "cell_type": "code",
   "execution_count": 8,
   "metadata": {},
   "outputs": [
    {
     "name": "stdout",
     "output_type": "stream",
     "text": [
      "Tests Passed\n"
     ]
    }
   ],
   "source": [
    "def conv2d_maxpool(x_tensor, conv_num_outputs, conv_ksize, conv_strides, pool_ksize, pool_strides):\n",
    "    \"\"\"\n",
    "    Apply convolution then max pooling to x_tensor\n",
    "    :param x_tensor: TensorFlow Tensor\n",
    "    :param conv_num_outputs: Number of outputs for the convolutional layer\n",
    "    :param conv_ksize: kernal size 2-D Tuple for the convolutional layer\n",
    "    :param conv_strides: Stride 2-D Tuple for convolution\n",
    "    :param pool_ksize: kernal size 2-D Tuple for pool\n",
    "    :param pool_strides: Stride 2-D Tuple for pool\n",
    "    : return: A tensor that represents convolution and max pooling of x_tensor\n",
    "    \"\"\"\n",
    "    # TODO: Implement Function\n",
    "    \n",
    "    weight = tf.Variable(tf.random_normal([conv_ksize[0], conv_ksize[1],\n",
    "                                           x_tensor.get_shape().as_list()[3],\n",
    "                                           conv_num_outputs], stddev = 0.1))\n",
    "    \n",
    "    bias = tf.Variable(tf.zeros(conv_num_outputs, dtype = tf.float32))\n",
    "    \n",
    "    x_tensor = tf.nn.conv2d(x_tensor, weight, strides=[1, conv_strides[0], conv_strides[1], 1], padding='SAME')\n",
    "    x_tensor = tf.nn.bias_add(x_tensor, bias)\n",
    "    x_tensor = tf.nn.relu(x_tensor)\n",
    "    x_tensor = tf.nn.max_pool(x_tensor, ksize=[1, pool_ksize[0], pool_ksize[1], 1],\n",
    "                             strides=[1, pool_strides[0], pool_strides[1], 1], padding='SAME')\n",
    "    \n",
    "    return x_tensor\n",
    "\n",
    "\n",
    "\"\"\"\n",
    "DON'T MODIFY ANYTHING IN THIS CELL THAT IS BELOW THIS LINE\n",
    "\"\"\"\n",
    "tests.test_con_pool(conv2d_maxpool)"
   ]
  },
  {
   "cell_type": "markdown",
   "metadata": {},
   "source": [
    "### Flatten Layer\n",
    "Implement the `flatten` function to change the dimension of `x_tensor` from a 4-D tensor to a 2-D tensor.  The output should be the shape (*Batch Size*, *Flattened Image Size*). Shortcut option: you can use classes from the [TensorFlow Layers](https://www.tensorflow.org/api_docs/python/tf/layers) or [TensorFlow Layers (contrib)](https://www.tensorflow.org/api_guides/python/contrib.layers) packages for this layer. For more of a challenge, only use other TensorFlow packages."
   ]
  },
  {
   "cell_type": "code",
   "execution_count": 9,
   "metadata": {},
   "outputs": [
    {
     "name": "stdout",
     "output_type": "stream",
     "text": [
      "Tests Passed\n"
     ]
    }
   ],
   "source": [
    "def flatten(x_tensor):\n",
    "    \"\"\"\n",
    "    Flatten x_tensor to (Batch Size, Flattened Image Size)\n",
    "    : x_tensor: A tensor of size (Batch Size, ...), where ... are the image dimensions.\n",
    "    : return: A tensor of size (Batch Size, Flattened Image Size).\n",
    "    \"\"\"\n",
    "    # TODO: Implement Function\n",
    "    width = x_tensor.shape[1].value\n",
    "    height = x_tensor.shape[2].value\n",
    "    depth = x_tensor.shape[3].value\n",
    "    return tf.reshape(x_tensor, [-1, width * height * depth])\n",
    "\n",
    "\n",
    "\"\"\"\n",
    "DON'T MODIFY ANYTHING IN THIS CELL THAT IS BELOW THIS LINE\n",
    "\"\"\"\n",
    "tests.test_flatten(flatten)"
   ]
  },
  {
   "cell_type": "markdown",
   "metadata": {},
   "source": [
    "### Fully-Connected Layer\n",
    "Implement the `fully_conn` function to apply a fully connected layer to `x_tensor` with the shape (*Batch Size*, *num_outputs*). Shortcut option: you can use classes from the [TensorFlow Layers](https://www.tensorflow.org/api_docs/python/tf/layers) or [TensorFlow Layers (contrib)](https://www.tensorflow.org/api_guides/python/contrib.layers) packages for this layer. For more of a challenge, only use other TensorFlow packages."
   ]
  },
  {
   "cell_type": "code",
   "execution_count": 10,
   "metadata": {},
   "outputs": [
    {
     "name": "stdout",
     "output_type": "stream",
     "text": [
      "Tests Passed\n"
     ]
    }
   ],
   "source": [
    "def fully_conn(x_tensor, num_outputs):\n",
    "    \"\"\"\n",
    "    Apply a fully connected layer to x_tensor using weight and bias\n",
    "    : x_tensor: A 2-D tensor where the first dimension is batch size.\n",
    "    : num_outputs: The number of output that the new tensor should be.\n",
    "    : return: A 2-D tensor where the second dimension is num_outputs.\n",
    "    \"\"\"\n",
    "    # TODO: Implement Function\n",
    "    n_feat = x_tensor.shape[1].value\n",
    "    weights = tf.Variable(tf.random_normal([n_feat, num_outputs], stddev=0.1))\n",
    "    bias = tf.Variable(tf.zeros(num_outputs))\n",
    "    return tf.nn.relu(tf.add(tf.matmul(x_tensor, weights), bias))\n",
    "\n",
    "\n",
    "\"\"\"\n",
    "DON'T MODIFY ANYTHING IN THIS CELL THAT IS BELOW THIS LINE\n",
    "\"\"\"\n",
    "tests.test_fully_conn(fully_conn)"
   ]
  },
  {
   "cell_type": "markdown",
   "metadata": {},
   "source": [
    "### Output Layer\n",
    "Implement the `output` function to apply a fully connected layer to `x_tensor` with the shape (*Batch Size*, *num_outputs*). Shortcut option: you can use classes from the [TensorFlow Layers](https://www.tensorflow.org/api_docs/python/tf/layers) or [TensorFlow Layers (contrib)](https://www.tensorflow.org/api_guides/python/contrib.layers) packages for this layer. For more of a challenge, only use other TensorFlow packages.\n",
    "\n",
    "**Note:** Activation, softmax, or cross entropy should **not** be applied to this."
   ]
  },
  {
   "cell_type": "code",
   "execution_count": 11,
   "metadata": {},
   "outputs": [
    {
     "name": "stdout",
     "output_type": "stream",
     "text": [
      "Tests Passed\n"
     ]
    }
   ],
   "source": [
    "def output(x_tensor, num_outputs):\n",
    "    \"\"\"\n",
    "    Apply a output layer to x_tensor using weight and bias\n",
    "    : x_tensor: A 2-D tensor where the first dimension is batch size.\n",
    "    : num_outputs: The number of output that the new tensor should be.\n",
    "    : return: A 2-D tensor where the second dimension is num_outputs.\n",
    "    \"\"\"\n",
    "    # TODO: Implement Function\n",
    "    \n",
    "    n_feat = x_tensor.shape[1].value\n",
    "    weights = tf.Variable(tf.random_normal([n_feat, num_outputs], stddev=0.1))\n",
    "    bias = tf.Variable(tf.zeros(num_outputs))\n",
    "    \n",
    "    return tf.add(tf.matmul(x_tensor, weights), bias)\n",
    "    \n",
    "\n",
    "\n",
    "\"\"\"\n",
    "DON'T MODIFY ANYTHING IN THIS CELL THAT IS BELOW THIS LINE\n",
    "\"\"\"\n",
    "tests.test_output(output)"
   ]
  },
  {
   "cell_type": "markdown",
   "metadata": {},
   "source": [
    "### Create Convolutional Model\n",
    "Implement the function `conv_net` to create a convolutional neural network model. The function takes in a batch of images, `x`, and outputs logits.  Use the layers you created above to create this model:\n",
    "\n",
    "* Apply 1, 2, or 3 Convolution and Max Pool layers\n",
    "* Apply a Flatten Layer\n",
    "* Apply 1, 2, or 3 Fully Connected Layers\n",
    "* Apply an Output Layer\n",
    "* Return the output\n",
    "* Apply [TensorFlow's Dropout](https://www.tensorflow.org/api_docs/python/tf/nn/dropout) to one or more layers in the model using `keep_prob`. "
   ]
  },
  {
   "cell_type": "code",
   "execution_count": 12,
   "metadata": {},
   "outputs": [
    {
     "name": "stdout",
     "output_type": "stream",
     "text": [
      "Neural Network Built!\n"
     ]
    }
   ],
   "source": [
    "def conv_net(x, keep_prob):\n",
    "    \"\"\"\n",
    "    Create a convolutional neural network model\n",
    "    : x: Placeholder tensor that holds image data.\n",
    "    : keep_prob: Placeholder tensor that hold dropout keep probability.\n",
    "    : return: Tensor that represents logits\n",
    "    \"\"\"\n",
    "    # TODO: Apply 1, 2, or 3 Convolution and Max Pool layers\n",
    "    #    Play around with different number of outputs, kernel size and stride\n",
    "    # Function Definition from Above:\n",
    "    #    conv2d_maxpool(x_tensor, conv_num_outputs, conv_ksize, conv_strides, pool_ksize, pool_strides)\n",
    "    conv_num_outputs = [8, 16, 32]\n",
    "    conv_ksize = (3, 3)\n",
    "    conv_strides = (1, 1)\n",
    "    pool_ksize = (3, 3)\n",
    "    pool_strides = (2, 2)\n",
    "    num_outputs = 10\n",
    "    \n",
    "    conv = conv2d_maxpool(x, conv_num_outputs[0], conv_ksize, conv_strides, pool_ksize, pool_strides)\n",
    "    conv = conv2d_maxpool(conv, conv_num_outputs[1], conv_ksize, conv_strides, pool_ksize, pool_strides)\n",
    "    conv = conv2d_maxpool(conv, conv_num_outputs[2], conv_ksize, conv_strides, pool_ksize, pool_strides)\n",
    "    \n",
    "\n",
    "    # TODO: Apply a Flatten Layer\n",
    "    # Function Definition from Above:\n",
    "    #   flatten(x_tensor)\n",
    "    flatten_layer = flatten(conv)\n",
    "    \n",
    "\n",
    "    # TODO: Apply 1, 2, or 3 Fully Connected Layers\n",
    "    #    Play around with different number of outputs\n",
    "    # Function Definition from Above:\n",
    "    #   fully_conn(x_tensor, num_outputs)\n",
    "    flatten_conv = fully_conn(flatten_layer, num_outputs*2)\n",
    "    flatten_conv = tf.nn.dropout(flatten_conv, keep_prob)\n",
    "    \n",
    "    \n",
    "    # TODO: Apply an Output Layer\n",
    "    #    Set this to the number of classes\n",
    "    # Function Definition from Above:\n",
    "    #   output(x_tensor, num_outputs)\n",
    "    out = output(flatten_layer, num_outputs)\n",
    "    \n",
    "    # TODO: return output\n",
    "    return out\n",
    "\n",
    "\n",
    "\"\"\"\n",
    "DON'T MODIFY ANYTHING IN THIS CELL THAT IS BELOW THIS LINE\n",
    "\"\"\"\n",
    "\n",
    "##############################\n",
    "## Build the Neural Network ##\n",
    "##############################\n",
    "\n",
    "# Remove previous weights, bias, inputs, etc..\n",
    "tf.reset_default_graph()\n",
    "\n",
    "# Inputs\n",
    "x = neural_net_image_input((32, 32, 3))\n",
    "y = neural_net_label_input(10)\n",
    "keep_prob = neural_net_keep_prob_input()\n",
    "\n",
    "# Model\n",
    "logits = conv_net(x, keep_prob)\n",
    "\n",
    "# Name logits Tensor, so that is can be loaded from disk after training\n",
    "logits = tf.identity(logits, name='logits')\n",
    "\n",
    "# Loss and Optimizer\n",
    "cost = tf.reduce_mean(tf.nn.softmax_cross_entropy_with_logits(logits=logits, labels=y))\n",
    "optimizer = tf.train.AdamOptimizer().minimize(cost)\n",
    "\n",
    "# Accuracy\n",
    "correct_pred = tf.equal(tf.argmax(logits, 1), tf.argmax(y, 1))\n",
    "accuracy = tf.reduce_mean(tf.cast(correct_pred, tf.float32), name='accuracy')\n",
    "\n",
    "tests.test_conv_net(conv_net)"
   ]
  },
  {
   "cell_type": "markdown",
   "metadata": {},
   "source": [
    "## Train the Neural Network\n",
    "### Single Optimization\n",
    "Implement the function `train_neural_network` to do a single optimization.  The optimization should use `optimizer` to optimize in `session` with a `feed_dict` of the following:\n",
    "* `x` for image input\n",
    "* `y` for labels\n",
    "* `keep_prob` for keep probability for dropout\n",
    "\n",
    "This function will be called for each batch, so `tf.global_variables_initializer()` has already been called.\n",
    "\n",
    "Note: Nothing needs to be returned. This function is only optimizing the neural network."
   ]
  },
  {
   "cell_type": "code",
   "execution_count": 13,
   "metadata": {},
   "outputs": [
    {
     "name": "stdout",
     "output_type": "stream",
     "text": [
      "Tests Passed\n"
     ]
    }
   ],
   "source": [
    "def train_neural_network(session, optimizer, keep_probability, feature_batch, label_batch):\n",
    "    \"\"\"\n",
    "    Optimize the session on a batch of images and labels\n",
    "    : session: Current TensorFlow session\n",
    "    : optimizer: TensorFlow optimizer function\n",
    "    : keep_probability: keep probability\n",
    "    : feature_batch: Batch of Numpy image data\n",
    "    : label_batch: Batch of Numpy label data\n",
    "    \"\"\"\n",
    "    # TODO: Implement Function\n",
    "    session.run(optimizer, feed_dict={x:feature_batch, y:label_batch, keep_prob:keep_probability})\n",
    "\n",
    "\n",
    "\"\"\"\n",
    "DON'T MODIFY ANYTHING IN THIS CELL THAT IS BELOW THIS LINE\n",
    "\"\"\"\n",
    "tests.test_train_nn(train_neural_network)"
   ]
  },
  {
   "cell_type": "markdown",
   "metadata": {},
   "source": [
    "### Show Stats\n",
    "Implement the function `print_stats` to print loss and validation accuracy.  Use the global variables `valid_features` and `valid_labels` to calculate validation accuracy.  Use a keep probability of `1.0` to calculate the loss and validation accuracy."
   ]
  },
  {
   "cell_type": "code",
   "execution_count": 14,
   "metadata": {},
   "outputs": [],
   "source": [
    "def print_stats(session, feature_batch, label_batch, cost, accuracy):\n",
    "    \"\"\"\n",
    "    Print information about loss and validation accuracy\n",
    "    : session: Current TensorFlow session\n",
    "    : feature_batch: Batch of Numpy image data\n",
    "    : label_batch: Batch of Numpy label data\n",
    "    : cost: TensorFlow cost function\n",
    "    : accuracy: TensorFlow accuracy function\n",
    "    \"\"\"\n",
    "    # TODO: Implement Function\n",
    "    loss = session.run(cost, feed_dict={x:feature_batch, y:label_batch, keep_prob:1.0})\n",
    "    \n",
    "    accuracy = session.run(accuracy, feed_dict={x:valid_features, y:valid_labels, keep_prob:1.0})\n",
    "    print('Loss={0} ValidationAccuracy={1}'. format(loss, accuracy))"
   ]
  },
  {
   "cell_type": "markdown",
   "metadata": {},
   "source": [
    "### Hyperparameters\n",
    "Tune the following parameters:\n",
    "* Set `epochs` to the number of iterations until the network stops learning or start overfitting\n",
    "* Set `batch_size` to the highest number that your machine has memory for.  Most people set them to common sizes of memory:\n",
    " * 64\n",
    " * 128\n",
    " * 256\n",
    " * ...\n",
    "* Set `keep_probability` to the probability of keeping a node using dropout"
   ]
  },
  {
   "cell_type": "code",
   "execution_count": 15,
   "metadata": {},
   "outputs": [],
   "source": [
    "# TODO: Tune Parameters\n",
    "epochs = 35\n",
    "batch_size = 64\n",
    "keep_probability = 0.5"
   ]
  },
  {
   "cell_type": "markdown",
   "metadata": {},
   "source": [
    "### Train on a Single CIFAR-10 Batch\n",
    "Instead of training the neural network on all the CIFAR-10 batches of data, let's use a single batch. This should save time while you iterate on the model to get a better accuracy.  Once the final validation accuracy is 50% or greater, run the model on all the data in the next section."
   ]
  },
  {
   "cell_type": "code",
   "execution_count": 16,
   "metadata": {},
   "outputs": [
    {
     "name": "stdout",
     "output_type": "stream",
     "text": [
      "Checking the Training on a Single Batch...\n",
      "Epoch  1, CIFAR-10 Batch 1:  Loss=2.1529641151428223 ValidationAccuracy=0.2930000126361847\n",
      "Epoch  2, CIFAR-10 Batch 1:  Loss=2.0469284057617188 ValidationAccuracy=0.3625999987125397\n",
      "Epoch  3, CIFAR-10 Batch 1:  Loss=1.979496717453003 ValidationAccuracy=0.4065999984741211\n",
      "Epoch  4, CIFAR-10 Batch 1:  Loss=1.930846929550171 ValidationAccuracy=0.426800012588501\n",
      "Epoch  5, CIFAR-10 Batch 1:  Loss=1.7821502685546875 ValidationAccuracy=0.45840001106262207\n",
      "Epoch  6, CIFAR-10 Batch 1:  Loss=1.6621872186660767 ValidationAccuracy=0.4733999967575073\n",
      "Epoch  7, CIFAR-10 Batch 1:  Loss=1.587282657623291 ValidationAccuracy=0.48500001430511475\n",
      "Epoch  8, CIFAR-10 Batch 1:  Loss=1.5391572713851929 ValidationAccuracy=0.49900001287460327\n",
      "Epoch  9, CIFAR-10 Batch 1:  Loss=1.5178788900375366 ValidationAccuracy=0.5103999972343445\n",
      "Epoch 10, CIFAR-10 Batch 1:  Loss=1.471306562423706 ValidationAccuracy=0.520799994468689\n",
      "Epoch 11, CIFAR-10 Batch 1:  Loss=1.426154375076294 ValidationAccuracy=0.5235999822616577\n",
      "Epoch 12, CIFAR-10 Batch 1:  Loss=1.3764984607696533 ValidationAccuracy=0.5289999842643738\n",
      "Epoch 13, CIFAR-10 Batch 1:  Loss=1.3452719449996948 ValidationAccuracy=0.5442000031471252\n",
      "Epoch 14, CIFAR-10 Batch 1:  Loss=1.3150207996368408 ValidationAccuracy=0.5522000193595886\n",
      "Epoch 15, CIFAR-10 Batch 1:  Loss=1.2865078449249268 ValidationAccuracy=0.5580000281333923\n",
      "Epoch 16, CIFAR-10 Batch 1:  Loss=1.2668434381484985 ValidationAccuracy=0.5636000037193298\n",
      "Epoch 17, CIFAR-10 Batch 1:  Loss=1.253668189048767 ValidationAccuracy=0.5684000253677368\n",
      "Epoch 18, CIFAR-10 Batch 1:  Loss=1.234297752380371 ValidationAccuracy=0.5727999806404114\n",
      "Epoch 19, CIFAR-10 Batch 1:  Loss=1.2262107133865356 ValidationAccuracy=0.5745999813079834\n",
      "Epoch 20, CIFAR-10 Batch 1:  Loss=1.200717806816101 ValidationAccuracy=0.5759999752044678\n",
      "Epoch 21, CIFAR-10 Batch 1:  Loss=1.1847515106201172 ValidationAccuracy=0.5770000219345093\n",
      "Epoch 22, CIFAR-10 Batch 1:  Loss=1.1581059694290161 ValidationAccuracy=0.5788000226020813\n",
      "Epoch 23, CIFAR-10 Batch 1:  Loss=1.1421630382537842 ValidationAccuracy=0.58160001039505\n",
      "Epoch 24, CIFAR-10 Batch 1:  Loss=1.1181029081344604 ValidationAccuracy=0.5807999968528748\n",
      "Epoch 25, CIFAR-10 Batch 1:  Loss=1.0883173942565918 ValidationAccuracy=0.5849999785423279\n",
      "Epoch 26, CIFAR-10 Batch 1:  Loss=1.0594873428344727 ValidationAccuracy=0.5856000185012817\n",
      "Epoch 27, CIFAR-10 Batch 1:  Loss=1.0391310453414917 ValidationAccuracy=0.5892000198364258\n",
      "Epoch 28, CIFAR-10 Batch 1:  Loss=1.019266128540039 ValidationAccuracy=0.5893999934196472\n",
      "Epoch 29, CIFAR-10 Batch 1:  Loss=0.9983590841293335 ValidationAccuracy=0.5885999798774719\n",
      "Epoch 30, CIFAR-10 Batch 1:  Loss=0.9829198718070984 ValidationAccuracy=0.5910000205039978\n",
      "Epoch 31, CIFAR-10 Batch 1:  Loss=0.9534618258476257 ValidationAccuracy=0.5928000211715698\n",
      "Epoch 32, CIFAR-10 Batch 1:  Loss=0.9416646957397461 ValidationAccuracy=0.5910000205039978\n",
      "Epoch 33, CIFAR-10 Batch 1:  Loss=0.9224557876586914 ValidationAccuracy=0.5929999947547913\n",
      "Epoch 34, CIFAR-10 Batch 1:  Loss=0.906513512134552 ValidationAccuracy=0.5942000150680542\n",
      "Epoch 35, CIFAR-10 Batch 1:  Loss=0.8881984949111938 ValidationAccuracy=0.5947999954223633\n"
     ]
    }
   ],
   "source": [
    "\"\"\"\n",
    "DON'T MODIFY ANYTHING IN THIS CELL\n",
    "\"\"\"\n",
    "print('Checking the Training on a Single Batch...')\n",
    "with tf.Session() as sess:\n",
    "    # Initializing the variables\n",
    "    sess.run(tf.global_variables_initializer())\n",
    "    \n",
    "    # Training cycle\n",
    "    for epoch in range(epochs):\n",
    "        batch_i = 1\n",
    "        for batch_features, batch_labels in helper.load_preprocess_training_batch(batch_i, batch_size):\n",
    "            train_neural_network(sess, optimizer, keep_probability, batch_features, batch_labels)\n",
    "        print('Epoch {:>2}, CIFAR-10 Batch {}:  '.format(epoch + 1, batch_i), end='')\n",
    "        print_stats(sess, batch_features, batch_labels, cost, accuracy)"
   ]
  },
  {
   "cell_type": "markdown",
   "metadata": {},
   "source": [
    "### Fully Train the Model\n",
    "Now that you got a good accuracy with a single CIFAR-10 batch, try it with all five batches."
   ]
  },
  {
   "cell_type": "code",
   "execution_count": 17,
   "metadata": {},
   "outputs": [
    {
     "name": "stdout",
     "output_type": "stream",
     "text": [
      "Training...\n",
      "Epoch  1, CIFAR-10 Batch 1:  Loss=2.006207227706909 ValidationAccuracy=0.326200008392334\n",
      "Epoch  1, CIFAR-10 Batch 2:  Loss=1.6272313594818115 ValidationAccuracy=0.40860000252723694\n",
      "Epoch  1, CIFAR-10 Batch 3:  Loss=1.4743845462799072 ValidationAccuracy=0.4562000036239624\n",
      "Epoch  1, CIFAR-10 Batch 4:  Loss=1.6692993640899658 ValidationAccuracy=0.4781999886035919\n",
      "Epoch  1, CIFAR-10 Batch 5:  Loss=1.4397201538085938 ValidationAccuracy=0.49239999055862427\n",
      "Epoch  2, CIFAR-10 Batch 1:  Loss=1.6786372661590576 ValidationAccuracy=0.48739999532699585\n",
      "Epoch  2, CIFAR-10 Batch 2:  Loss=1.3396408557891846 ValidationAccuracy=0.5103999972343445\n",
      "Epoch  2, CIFAR-10 Batch 3:  Loss=1.2687299251556396 ValidationAccuracy=0.5299999713897705\n",
      "Epoch  2, CIFAR-10 Batch 4:  Loss=1.470855712890625 ValidationAccuracy=0.5450000166893005\n",
      "Epoch  2, CIFAR-10 Batch 5:  Loss=1.3821840286254883 ValidationAccuracy=0.5389999747276306\n",
      "Epoch  3, CIFAR-10 Batch 1:  Loss=1.4678332805633545 ValidationAccuracy=0.5582000017166138\n",
      "Epoch  3, CIFAR-10 Batch 2:  Loss=1.301213026046753 ValidationAccuracy=0.5320000052452087\n",
      "Epoch  3, CIFAR-10 Batch 3:  Loss=1.120816946029663 ValidationAccuracy=0.5633999705314636\n",
      "Epoch  3, CIFAR-10 Batch 4:  Loss=1.3289388418197632 ValidationAccuracy=0.5726000070571899\n",
      "Epoch  3, CIFAR-10 Batch 5:  Loss=1.3448489904403687 ValidationAccuracy=0.5705999732017517\n",
      "Epoch  4, CIFAR-10 Batch 1:  Loss=1.3404037952423096 ValidationAccuracy=0.5875999927520752\n",
      "Epoch  4, CIFAR-10 Batch 2:  Loss=1.239010214805603 ValidationAccuracy=0.5595999956130981\n",
      "Epoch  4, CIFAR-10 Batch 3:  Loss=0.9714559316635132 ValidationAccuracy=0.5916000008583069\n",
      "Epoch  4, CIFAR-10 Batch 4:  Loss=1.2044931650161743 ValidationAccuracy=0.6001999974250793\n",
      "Epoch  4, CIFAR-10 Batch 5:  Loss=1.2639621496200562 ValidationAccuracy=0.5902000069618225\n",
      "Epoch  5, CIFAR-10 Batch 1:  Loss=1.301013708114624 ValidationAccuracy=0.6075999736785889\n",
      "Epoch  5, CIFAR-10 Batch 2:  Loss=1.174105167388916 ValidationAccuracy=0.5789999961853027\n",
      "Epoch  5, CIFAR-10 Batch 3:  Loss=0.8649531602859497 ValidationAccuracy=0.605400025844574\n",
      "Epoch  5, CIFAR-10 Batch 4:  Loss=1.1040223836898804 ValidationAccuracy=0.6122000217437744\n",
      "Epoch  5, CIFAR-10 Batch 5:  Loss=1.1853697299957275 ValidationAccuracy=0.6087999939918518\n",
      "Epoch  6, CIFAR-10 Batch 1:  Loss=1.28493070602417 ValidationAccuracy=0.621399998664856\n",
      "Epoch  6, CIFAR-10 Batch 2:  Loss=1.1119050979614258 ValidationAccuracy=0.5898000001907349\n",
      "Epoch  6, CIFAR-10 Batch 3:  Loss=0.7946362495422363 ValidationAccuracy=0.6218000054359436\n",
      "Epoch  6, CIFAR-10 Batch 4:  Loss=1.0315148830413818 ValidationAccuracy=0.6269999742507935\n",
      "Epoch  6, CIFAR-10 Batch 5:  Loss=1.1121450662612915 ValidationAccuracy=0.6226000189781189\n",
      "Epoch  7, CIFAR-10 Batch 1:  Loss=1.2696284055709839 ValidationAccuracy=0.6327999830245972\n",
      "Epoch  7, CIFAR-10 Batch 2:  Loss=1.0348007678985596 ValidationAccuracy=0.607200026512146\n",
      "Epoch  7, CIFAR-10 Batch 3:  Loss=0.7390912771224976 ValidationAccuracy=0.6359999775886536\n",
      "Epoch  7, CIFAR-10 Batch 4:  Loss=0.9910951852798462 ValidationAccuracy=0.6373999714851379\n",
      "Epoch  7, CIFAR-10 Batch 5:  Loss=1.0530027151107788 ValidationAccuracy=0.6358000040054321\n",
      "Epoch  8, CIFAR-10 Batch 1:  Loss=1.239054560661316 ValidationAccuracy=0.6444000005722046\n",
      "Epoch  8, CIFAR-10 Batch 2:  Loss=0.9673040509223938 ValidationAccuracy=0.6208000183105469\n",
      "Epoch  8, CIFAR-10 Batch 3:  Loss=0.7170789837837219 ValidationAccuracy=0.6442000269889832\n",
      "Epoch  8, CIFAR-10 Batch 4:  Loss=0.9386765360832214 ValidationAccuracy=0.6514000296592712\n",
      "Epoch  8, CIFAR-10 Batch 5:  Loss=0.9817445874214172 ValidationAccuracy=0.646399974822998\n",
      "Epoch  9, CIFAR-10 Batch 1:  Loss=1.1979845762252808 ValidationAccuracy=0.6539999842643738\n",
      "Epoch  9, CIFAR-10 Batch 2:  Loss=0.9029862284660339 ValidationAccuracy=0.6323999762535095\n",
      "Epoch  9, CIFAR-10 Batch 3:  Loss=0.6877008676528931 ValidationAccuracy=0.650600016117096\n",
      "Epoch  9, CIFAR-10 Batch 4:  Loss=0.8869760632514954 ValidationAccuracy=0.6531999707221985\n",
      "Epoch  9, CIFAR-10 Batch 5:  Loss=0.9296971559524536 ValidationAccuracy=0.6510000228881836\n",
      "Epoch 10, CIFAR-10 Batch 1:  Loss=1.183287262916565 ValidationAccuracy=0.6606000065803528\n",
      "Epoch 10, CIFAR-10 Batch 2:  Loss=0.8436926603317261 ValidationAccuracy=0.6412000060081482\n",
      "Epoch 10, CIFAR-10 Batch 3:  Loss=0.6565724015235901 ValidationAccuracy=0.6575999855995178\n",
      "Epoch 10, CIFAR-10 Batch 4:  Loss=0.8547441363334656 ValidationAccuracy=0.6589999794960022\n",
      "Epoch 10, CIFAR-10 Batch 5:  Loss=0.8868416547775269 ValidationAccuracy=0.659600019454956\n",
      "Epoch 11, CIFAR-10 Batch 1:  Loss=1.1706773042678833 ValidationAccuracy=0.6661999821662903\n",
      "Epoch 11, CIFAR-10 Batch 2:  Loss=0.7882276773452759 ValidationAccuracy=0.6514000296592712\n",
      "Epoch 11, CIFAR-10 Batch 3:  Loss=0.6319717764854431 ValidationAccuracy=0.6651999950408936\n",
      "Epoch 11, CIFAR-10 Batch 4:  Loss=0.8211408853530884 ValidationAccuracy=0.6660000085830688\n",
      "Epoch 11, CIFAR-10 Batch 5:  Loss=0.8535672426223755 ValidationAccuracy=0.6636000275611877\n",
      "Epoch 12, CIFAR-10 Batch 1:  Loss=1.162041187286377 ValidationAccuracy=0.6665999889373779\n",
      "Epoch 12, CIFAR-10 Batch 2:  Loss=0.7391179800033569 ValidationAccuracy=0.657800018787384\n",
      "Epoch 12, CIFAR-10 Batch 3:  Loss=0.6293614506721497 ValidationAccuracy=0.670799970626831\n",
      "Epoch 12, CIFAR-10 Batch 4:  Loss=0.7944485545158386 ValidationAccuracy=0.6693999767303467\n",
      "Epoch 12, CIFAR-10 Batch 5:  Loss=0.8397234678268433 ValidationAccuracy=0.6690000295639038\n",
      "Epoch 13, CIFAR-10 Batch 1:  Loss=1.1507577896118164 ValidationAccuracy=0.6704000234603882\n",
      "Epoch 13, CIFAR-10 Batch 2:  Loss=0.7016856074333191 ValidationAccuracy=0.6582000255584717\n",
      "Epoch 13, CIFAR-10 Batch 3:  Loss=0.6222288012504578 ValidationAccuracy=0.6732000112533569\n",
      "Epoch 13, CIFAR-10 Batch 4:  Loss=0.7798994183540344 ValidationAccuracy=0.6747999787330627\n",
      "Epoch 13, CIFAR-10 Batch 5:  Loss=0.8071131706237793 ValidationAccuracy=0.6743999719619751\n",
      "Epoch 14, CIFAR-10 Batch 1:  Loss=1.1380866765975952 ValidationAccuracy=0.675599992275238\n",
      "Epoch 14, CIFAR-10 Batch 2:  Loss=0.6709299087524414 ValidationAccuracy=0.6639999747276306\n",
      "Epoch 14, CIFAR-10 Batch 3:  Loss=0.6091952919960022 ValidationAccuracy=0.6772000193595886\n",
      "Epoch 14, CIFAR-10 Batch 4:  Loss=0.7348362803459167 ValidationAccuracy=0.6791999936103821\n",
      "Epoch 14, CIFAR-10 Batch 5:  Loss=0.7824637293815613 ValidationAccuracy=0.6769999861717224\n",
      "Epoch 15, CIFAR-10 Batch 1:  Loss=1.1420905590057373 ValidationAccuracy=0.6776000261306763\n",
      "Epoch 15, CIFAR-10 Batch 2:  Loss=0.6429770588874817 ValidationAccuracy=0.6682000160217285\n",
      "Epoch 15, CIFAR-10 Batch 3:  Loss=0.6059237718582153 ValidationAccuracy=0.6800000071525574\n",
      "Epoch 15, CIFAR-10 Batch 4:  Loss=0.7194055318832397 ValidationAccuracy=0.6818000078201294\n",
      "Epoch 15, CIFAR-10 Batch 5:  Loss=0.7560361623764038 ValidationAccuracy=0.6790000200271606\n",
      "Epoch 16, CIFAR-10 Batch 1:  Loss=1.1154136657714844 ValidationAccuracy=0.6794000267982483\n",
      "Epoch 16, CIFAR-10 Batch 2:  Loss=0.6313632130622864 ValidationAccuracy=0.6669999957084656\n",
      "Epoch 16, CIFAR-10 Batch 3:  Loss=0.6040489077568054 ValidationAccuracy=0.6862000226974487\n",
      "Epoch 16, CIFAR-10 Batch 4:  Loss=0.6901835203170776 ValidationAccuracy=0.6818000078201294\n",
      "Epoch 16, CIFAR-10 Batch 5:  Loss=0.7352405786514282 ValidationAccuracy=0.6805999875068665\n",
      "Epoch 17, CIFAR-10 Batch 1:  Loss=1.0951822996139526 ValidationAccuracy=0.6801999807357788\n",
      "Epoch 17, CIFAR-10 Batch 2:  Loss=0.6148209571838379 ValidationAccuracy=0.6761999726295471\n",
      "Epoch 17, CIFAR-10 Batch 3:  Loss=0.597572922706604 ValidationAccuracy=0.6880000233650208\n",
      "Epoch 17, CIFAR-10 Batch 4:  Loss=0.6728140711784363 ValidationAccuracy=0.682200014591217\n",
      "Epoch 17, CIFAR-10 Batch 5:  Loss=0.7150008082389832 ValidationAccuracy=0.6814000010490417\n",
      "Epoch 18, CIFAR-10 Batch 1:  Loss=1.0728380680084229 ValidationAccuracy=0.6791999936103821\n",
      "Epoch 18, CIFAR-10 Batch 2:  Loss=0.5962134599685669 ValidationAccuracy=0.678600013256073\n",
      "Epoch 18, CIFAR-10 Batch 3:  Loss=0.5920318365097046 ValidationAccuracy=0.6905999779701233\n",
      "Epoch 18, CIFAR-10 Batch 4:  Loss=0.6550614237785339 ValidationAccuracy=0.6873999834060669\n",
      "Epoch 18, CIFAR-10 Batch 5:  Loss=0.6930273771286011 ValidationAccuracy=0.6809999942779541\n"
     ]
    },
    {
     "name": "stdout",
     "output_type": "stream",
     "text": [
      "Epoch 19, CIFAR-10 Batch 1:  Loss=1.0415306091308594 ValidationAccuracy=0.6791999936103821\n",
      "Epoch 19, CIFAR-10 Batch 2:  Loss=0.5767110586166382 ValidationAccuracy=0.6801999807357788\n",
      "Epoch 19, CIFAR-10 Batch 3:  Loss=0.579250693321228 ValidationAccuracy=0.6935999989509583\n",
      "Epoch 19, CIFAR-10 Batch 4:  Loss=0.6455925107002258 ValidationAccuracy=0.6881999969482422\n",
      "Epoch 19, CIFAR-10 Batch 5:  Loss=0.673730194568634 ValidationAccuracy=0.6812000274658203\n",
      "Epoch 20, CIFAR-10 Batch 1:  Loss=1.0158686637878418 ValidationAccuracy=0.6826000213623047\n",
      "Epoch 20, CIFAR-10 Batch 2:  Loss=0.5633090734481812 ValidationAccuracy=0.6818000078201294\n",
      "Epoch 20, CIFAR-10 Batch 3:  Loss=0.5639053583145142 ValidationAccuracy=0.6926000118255615\n",
      "Epoch 20, CIFAR-10 Batch 4:  Loss=0.627615749835968 ValidationAccuracy=0.6898000240325928\n",
      "Epoch 20, CIFAR-10 Batch 5:  Loss=0.6551028490066528 ValidationAccuracy=0.6845999956130981\n",
      "Epoch 21, CIFAR-10 Batch 1:  Loss=0.9981626272201538 ValidationAccuracy=0.6850000023841858\n",
      "Epoch 21, CIFAR-10 Batch 2:  Loss=0.5626411437988281 ValidationAccuracy=0.6837999820709229\n",
      "Epoch 21, CIFAR-10 Batch 3:  Loss=0.5604151487350464 ValidationAccuracy=0.6937999725341797\n",
      "Epoch 21, CIFAR-10 Batch 4:  Loss=0.624901533126831 ValidationAccuracy=0.6904000043869019\n",
      "Epoch 21, CIFAR-10 Batch 5:  Loss=0.637039065361023 ValidationAccuracy=0.6877999901771545\n",
      "Epoch 22, CIFAR-10 Batch 1:  Loss=0.9755952954292297 ValidationAccuracy=0.6830000281333923\n",
      "Epoch 22, CIFAR-10 Batch 2:  Loss=0.5505346059799194 ValidationAccuracy=0.6894000172615051\n",
      "Epoch 22, CIFAR-10 Batch 3:  Loss=0.5524207353591919 ValidationAccuracy=0.6944000124931335\n",
      "Epoch 22, CIFAR-10 Batch 4:  Loss=0.5954055786132812 ValidationAccuracy=0.6935999989509583\n",
      "Epoch 22, CIFAR-10 Batch 5:  Loss=0.6373720765113831 ValidationAccuracy=0.6898000240325928\n",
      "Epoch 23, CIFAR-10 Batch 1:  Loss=0.9538840055465698 ValidationAccuracy=0.6814000010490417\n",
      "Epoch 23, CIFAR-10 Batch 2:  Loss=0.5391752123832703 ValidationAccuracy=0.6866000294685364\n",
      "Epoch 23, CIFAR-10 Batch 3:  Loss=0.5385732650756836 ValidationAccuracy=0.6958000063896179\n",
      "Epoch 23, CIFAR-10 Batch 4:  Loss=0.5851174592971802 ValidationAccuracy=0.6955999732017517\n",
      "Epoch 23, CIFAR-10 Batch 5:  Loss=0.6185525059700012 ValidationAccuracy=0.6905999779701233\n",
      "Epoch 24, CIFAR-10 Batch 1:  Loss=0.9343860745429993 ValidationAccuracy=0.6862000226974487\n",
      "Epoch 24, CIFAR-10 Batch 2:  Loss=0.525634765625 ValidationAccuracy=0.6922000050544739\n",
      "Epoch 24, CIFAR-10 Batch 3:  Loss=0.5295878052711487 ValidationAccuracy=0.6953999996185303\n",
      "Epoch 24, CIFAR-10 Batch 4:  Loss=0.5629574656486511 ValidationAccuracy=0.6949999928474426\n",
      "Epoch 24, CIFAR-10 Batch 5:  Loss=0.6103005409240723 ValidationAccuracy=0.6912000179290771\n",
      "Epoch 25, CIFAR-10 Batch 1:  Loss=0.9047437906265259 ValidationAccuracy=0.6863999962806702\n",
      "Epoch 25, CIFAR-10 Batch 2:  Loss=0.5067057013511658 ValidationAccuracy=0.6887999773025513\n",
      "Epoch 25, CIFAR-10 Batch 3:  Loss=0.5156019330024719 ValidationAccuracy=0.6976000070571899\n",
      "Epoch 25, CIFAR-10 Batch 4:  Loss=0.5596863031387329 ValidationAccuracy=0.6959999799728394\n",
      "Epoch 25, CIFAR-10 Batch 5:  Loss=0.5991786122322083 ValidationAccuracy=0.6898000240325928\n",
      "Epoch 26, CIFAR-10 Batch 1:  Loss=0.8848730325698853 ValidationAccuracy=0.6872000098228455\n",
      "Epoch 26, CIFAR-10 Batch 2:  Loss=0.49017828702926636 ValidationAccuracy=0.6962000131607056\n",
      "Epoch 26, CIFAR-10 Batch 3:  Loss=0.5004938840866089 ValidationAccuracy=0.7003999948501587\n",
      "Epoch 26, CIFAR-10 Batch 4:  Loss=0.5427675247192383 ValidationAccuracy=0.6980000138282776\n",
      "Epoch 26, CIFAR-10 Batch 5:  Loss=0.5975567698478699 ValidationAccuracy=0.6944000124931335\n",
      "Epoch 27, CIFAR-10 Batch 1:  Loss=0.879062294960022 ValidationAccuracy=0.6895999908447266\n",
      "Epoch 27, CIFAR-10 Batch 2:  Loss=0.4786664843559265 ValidationAccuracy=0.696399986743927\n",
      "Epoch 27, CIFAR-10 Batch 3:  Loss=0.48772090673446655 ValidationAccuracy=0.699400007724762\n",
      "Epoch 27, CIFAR-10 Batch 4:  Loss=0.533740222454071 ValidationAccuracy=0.6984000205993652\n",
      "Epoch 27, CIFAR-10 Batch 5:  Loss=0.5838721990585327 ValidationAccuracy=0.6941999793052673\n",
      "Epoch 28, CIFAR-10 Batch 1:  Loss=0.8489624261856079 ValidationAccuracy=0.6886000037193298\n",
      "Epoch 28, CIFAR-10 Batch 2:  Loss=0.46855416893959045 ValidationAccuracy=0.6977999806404114\n",
      "Epoch 28, CIFAR-10 Batch 3:  Loss=0.477884441614151 ValidationAccuracy=0.6990000009536743\n",
      "Epoch 28, CIFAR-10 Batch 4:  Loss=0.5242961049079895 ValidationAccuracy=0.6991999745368958\n",
      "Epoch 28, CIFAR-10 Batch 5:  Loss=0.5793801546096802 ValidationAccuracy=0.6926000118255615\n",
      "Epoch 29, CIFAR-10 Batch 1:  Loss=0.8347463607788086 ValidationAccuracy=0.6904000043869019\n",
      "Epoch 29, CIFAR-10 Batch 2:  Loss=0.4569873809814453 ValidationAccuracy=0.6972000002861023\n",
      "Epoch 29, CIFAR-10 Batch 3:  Loss=0.4710273742675781 ValidationAccuracy=0.6959999799728394\n",
      "Epoch 29, CIFAR-10 Batch 4:  Loss=0.5241695046424866 ValidationAccuracy=0.6972000002861023\n",
      "Epoch 29, CIFAR-10 Batch 5:  Loss=0.5705024003982544 ValidationAccuracy=0.6934000253677368\n",
      "Epoch 30, CIFAR-10 Batch 1:  Loss=0.8252008557319641 ValidationAccuracy=0.6898000240325928\n",
      "Epoch 30, CIFAR-10 Batch 2:  Loss=0.4557971954345703 ValidationAccuracy=0.6955999732017517\n",
      "Epoch 30, CIFAR-10 Batch 3:  Loss=0.4590677320957184 ValidationAccuracy=0.6944000124931335\n",
      "Epoch 30, CIFAR-10 Batch 4:  Loss=0.5108572244644165 ValidationAccuracy=0.699999988079071\n",
      "Epoch 30, CIFAR-10 Batch 5:  Loss=0.5596983432769775 ValidationAccuracy=0.6901999711990356\n",
      "Epoch 31, CIFAR-10 Batch 1:  Loss=0.8149303197860718 ValidationAccuracy=0.6873999834060669\n",
      "Epoch 31, CIFAR-10 Batch 2:  Loss=0.4476413130760193 ValidationAccuracy=0.6949999928474426\n",
      "Epoch 31, CIFAR-10 Batch 3:  Loss=0.4497857987880707 ValidationAccuracy=0.6973999738693237\n",
      "Epoch 31, CIFAR-10 Batch 4:  Loss=0.5103551745414734 ValidationAccuracy=0.6998000144958496\n",
      "Epoch 31, CIFAR-10 Batch 5:  Loss=0.5478736162185669 ValidationAccuracy=0.6923999786376953\n",
      "Epoch 32, CIFAR-10 Batch 1:  Loss=0.8104443550109863 ValidationAccuracy=0.6876000165939331\n",
      "Epoch 32, CIFAR-10 Batch 2:  Loss=0.4423934519290924 ValidationAccuracy=0.6962000131607056\n",
      "Epoch 32, CIFAR-10 Batch 3:  Loss=0.4428393244743347 ValidationAccuracy=0.6962000131607056\n",
      "Epoch 32, CIFAR-10 Batch 4:  Loss=0.4977119565010071 ValidationAccuracy=0.6976000070571899\n",
      "Epoch 32, CIFAR-10 Batch 5:  Loss=0.5478126406669617 ValidationAccuracy=0.6949999928474426\n",
      "Epoch 33, CIFAR-10 Batch 1:  Loss=0.806591808795929 ValidationAccuracy=0.6908000111579895\n",
      "Epoch 33, CIFAR-10 Batch 2:  Loss=0.4377623200416565 ValidationAccuracy=0.6980000138282776\n",
      "Epoch 33, CIFAR-10 Batch 3:  Loss=0.43370872735977173 ValidationAccuracy=0.6976000070571899\n",
      "Epoch 33, CIFAR-10 Batch 4:  Loss=0.5035030841827393 ValidationAccuracy=0.6988000273704529\n",
      "Epoch 33, CIFAR-10 Batch 5:  Loss=0.5442434549331665 ValidationAccuracy=0.692799985408783\n",
      "Epoch 34, CIFAR-10 Batch 1:  Loss=0.8160495758056641 ValidationAccuracy=0.6891999840736389\n",
      "Epoch 34, CIFAR-10 Batch 2:  Loss=0.4286811947822571 ValidationAccuracy=0.6985999941825867\n",
      "Epoch 34, CIFAR-10 Batch 3:  Loss=0.4258968234062195 ValidationAccuracy=0.6973999738693237\n",
      "Epoch 34, CIFAR-10 Batch 4:  Loss=0.5156816840171814 ValidationAccuracy=0.6977999806404114\n",
      "Epoch 34, CIFAR-10 Batch 5:  Loss=0.5420292615890503 ValidationAccuracy=0.6913999915122986\n",
      "Epoch 35, CIFAR-10 Batch 1:  Loss=0.7867902517318726 ValidationAccuracy=0.6908000111579895\n",
      "Epoch 35, CIFAR-10 Batch 2:  Loss=0.4248679280281067 ValidationAccuracy=0.7021999955177307\n",
      "Epoch 35, CIFAR-10 Batch 3:  Loss=0.41990548372268677 ValidationAccuracy=0.6980000138282776\n",
      "Epoch 35, CIFAR-10 Batch 4:  Loss=0.5060445666313171 ValidationAccuracy=0.6977999806404114\n",
      "Epoch 35, CIFAR-10 Batch 5:  Loss=0.5346091985702515 ValidationAccuracy=0.6934000253677368\n"
     ]
    }
   ],
   "source": [
    "\"\"\"\n",
    "DON'T MODIFY ANYTHING IN THIS CELL\n",
    "\"\"\"\n",
    "save_model_path = './image_classification'\n",
    "\n",
    "print('Training...')\n",
    "with tf.Session() as sess:\n",
    "    # Initializing the variables\n",
    "    sess.run(tf.global_variables_initializer())\n",
    "    \n",
    "    # Training cycle\n",
    "    for epoch in range(epochs):\n",
    "        # Loop over all batches\n",
    "        n_batches = 5\n",
    "        for batch_i in range(1, n_batches + 1):\n",
    "            for batch_features, batch_labels in helper.load_preprocess_training_batch(batch_i, batch_size):\n",
    "                train_neural_network(sess, optimizer, keep_probability, batch_features, batch_labels)\n",
    "            print('Epoch {:>2}, CIFAR-10 Batch {}:  '.format(epoch + 1, batch_i), end='')\n",
    "            print_stats(sess, batch_features, batch_labels, cost, accuracy)\n",
    "            \n",
    "    # Save Model\n",
    "    saver = tf.train.Saver()\n",
    "    save_path = saver.save(sess, save_model_path)"
   ]
  },
  {
   "cell_type": "markdown",
   "metadata": {},
   "source": [
    "# Checkpoint\n",
    "The model has been saved to disk.\n",
    "## Test Model\n",
    "Test your model against the test dataset.  This will be your final accuracy. You should have an accuracy greater than 50%. If you don't, keep tweaking the model architecture and parameters."
   ]
  },
  {
   "cell_type": "code",
   "execution_count": 18,
   "metadata": {},
   "outputs": [
    {
     "name": "stdout",
     "output_type": "stream",
     "text": [
      "INFO:tensorflow:Restoring parameters from ./image_classification\n",
      "Testing Accuracy: 0.6950636942675159\n",
      "\n"
     ]
    },
    {
     "data": {
      "image/png": "[encoded data removed]",
      "text/plain": [
       "<matplotlib.figure.Figure at 0x1a381b2b358>"
      ]
     },
     "metadata": {
      "image/png": {
       "height": 319,
       "width": 355
      }
     },
     "output_type": "display_data"
    }
   ],
   "source": [
    "\"\"\"\n",
    "DON'T MODIFY ANYTHING IN THIS CELL\n",
    "\"\"\"\n",
    "%matplotlib inline\n",
    "%config InlineBackend.figure_format = 'retina'\n",
    "\n",
    "import tensorflow as tf\n",
    "import pickle\n",
    "import helper\n",
    "import random\n",
    "\n",
    "# Set batch size if not already set\n",
    "try:\n",
    "    if batch_size:\n",
    "        pass\n",
    "except NameError:\n",
    "    batch_size = 64\n",
    "\n",
    "save_model_path = './image_classification'\n",
    "n_samples = 4\n",
    "top_n_predictions = 3\n",
    "\n",
    "def test_model():\n",
    "    \"\"\"\n",
    "    Test the saved model against the test dataset\n",
    "    \"\"\"\n",
    "\n",
    "    test_features, test_labels = pickle.load(open('preprocess_test.p', mode='rb'))\n",
    "    loaded_graph = tf.Graph()\n",
    "\n",
    "    with tf.Session(graph=loaded_graph) as sess:\n",
    "        # Load model\n",
    "        loader = tf.train.import_meta_graph(save_model_path + '.meta')\n",
    "        loader.restore(sess, save_model_path)\n",
    "\n",
    "        # Get Tensors from loaded model\n",
    "        loaded_x = loaded_graph.get_tensor_by_name('x:0')\n",
    "        loaded_y = loaded_graph.get_tensor_by_name('y:0')\n",
    "        loaded_keep_prob = loaded_graph.get_tensor_by_name('keep_prob:0')\n",
    "        loaded_logits = loaded_graph.get_tensor_by_name('logits:0')\n",
    "        loaded_acc = loaded_graph.get_tensor_by_name('accuracy:0')\n",
    "        \n",
    "        # Get accuracy in batches for memory limitations\n",
    "        test_batch_acc_total = 0\n",
    "        test_batch_count = 0\n",
    "        \n",
    "        for test_feature_batch, test_label_batch in helper.batch_features_labels(test_features, test_labels, batch_size):\n",
    "            test_batch_acc_total += sess.run(\n",
    "                loaded_acc,\n",
    "                feed_dict={loaded_x: test_feature_batch, loaded_y: test_label_batch, loaded_keep_prob: 1.0})\n",
    "            test_batch_count += 1\n",
    "\n",
    "        print('Testing Accuracy: {}\\n'.format(test_batch_acc_total/test_batch_count))\n",
    "\n",
    "        # Print Random Samples\n",
    "        random_test_features, random_test_labels = tuple(zip(*random.sample(list(zip(test_features, test_labels)), n_samples)))\n",
    "        random_test_predictions = sess.run(\n",
    "            tf.nn.top_k(tf.nn.softmax(loaded_logits), top_n_predictions),\n",
    "            feed_dict={loaded_x: random_test_features, loaded_y: random_test_labels, loaded_keep_prob: 1.0})\n",
    "        helper.display_image_predictions(random_test_features, random_test_labels, random_test_predictions)\n",
    "\n",
    "\n",
    "test_model()"
   ]
  },
  {
   "cell_type": "markdown",
   "metadata": {},
   "source": [
    "## Why 50-80% Accuracy?\n",
    "You might be wondering why you can't get an accuracy any higher. First things first, 50% isn't bad for a simple CNN.  Pure guessing would get you 10% accuracy. However, you might notice people are getting scores [well above 80%](http://rodrigob.github.io/are_we_there_yet/build/classification_datasets_results.html#43494641522d3130).  That's because we haven't taught you all there is to know about neural networks. We still need to cover a few more techniques.\n",
    "## Submitting This Project\n",
    "When submitting this project, make sure to run all the cells before saving the notebook.  Save the notebook file as \"dlnd_image_classification.ipynb\" and save it as a HTML file under \"File\" -> \"Download as\".  Include the \"helper.py\" and \"problem_unittests.py\" files in your submission."
   ]
  },
  {
   "cell_type": "code",
   "execution_count": null,
   "metadata": {},
   "outputs": [],
   "source": []
  }
 ],
 "metadata": {
  "kernelspec": {
   "display_name": "Python 3",
   "language": "python",
   "name": "python3"
  },
  "language_info": {
   "codemirror_mode": {
    "name": "ipython",
    "version": 3
   },
   "file_extension": ".py",
   "mimetype": "text/x-python",
   "name": "python",
   "nbconvert_exporter": "python",
   "pygments_lexer": "ipython3",
   "version": "3.6.3"
  }
 },
 "nbformat": 4,
 "nbformat_minor": 1
}
