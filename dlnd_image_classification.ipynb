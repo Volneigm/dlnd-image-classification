{
 "cells": [
  {
   "cell_type": "markdown",
   "metadata": {
    "collapsed": true
   },
   "source": [
    "# Image Classification\n",
    "In this project, you'll classify images from the [CIFAR-10 dataset](https://www.cs.toronto.edu/~kriz/cifar.html).  The dataset consists of airplanes, dogs, cats, and other objects. You'll preprocess the images, then train a convolutional neural network on all the samples. The images need to be normalized and the labels need to be one-hot encoded.  You'll get to apply what you learned and build a convolutional, max pooling, dropout, and fully connected layers.  At the end, you'll get to see your neural network's predictions on the sample images.\n",
    "## Get the Data\n",
    "Run the following cell to download the [CIFAR-10 dataset for python](https://www.cs.toronto.edu/~kriz/cifar-10-python.tar.gz)."
   ]
  },
  {
   "cell_type": "code",
   "execution_count": 1,
   "metadata": {},
   "outputs": [
    {
     "name": "stdout",
     "output_type": "stream",
     "text": [
      "All files found!\n"
     ]
    }
   ],
   "source": [
    "\"\"\"\n",
    "DON'T MODIFY ANYTHING IN THIS CELL THAT IS BELOW THIS LINE\n",
    "\"\"\"\n",
    "from urllib.request import urlretrieve\n",
    "from os.path import isfile, isdir\n",
    "from tqdm import tqdm\n",
    "import problem_unittests as tests\n",
    "import tarfile\n",
    "\n",
    "cifar10_dataset_folder_path = 'cifar-10-batches-py'\n",
    "\n",
    "# Use Floyd's cifar-10 dataset if present\n",
    "floyd_cifar10_location = '/cifar/cifar-10-python.tar.gz'\n",
    "if isfile(floyd_cifar10_location):\n",
    "    tar_gz_path = floyd_cifar10_location\n",
    "else:\n",
    "    tar_gz_path = 'cifar-10-python.tar.gz'\n",
    "\n",
    "class DLProgress(tqdm):\n",
    "    last_block = 0\n",
    "\n",
    "    def hook(self, block_num=1, block_size=1, total_size=None):\n",
    "        self.total = total_size\n",
    "        self.update((block_num - self.last_block) * block_size)\n",
    "        self.last_block = block_num\n",
    "\n",
    "if not isfile(tar_gz_path):\n",
    "    with DLProgress(unit='B', unit_scale=True, miniters=1, desc='CIFAR-10 Dataset') as pbar:\n",
    "        urlretrieve(\n",
    "            'https://www.cs.toronto.edu/~kriz/cifar-10-python.tar.gz',\n",
    "            tar_gz_path,\n",
    "            pbar.hook)\n",
    "\n",
    "if not isdir(cifar10_dataset_folder_path):\n",
    "    with tarfile.open(tar_gz_path) as tar:\n",
    "        tar.extractall()\n",
    "        tar.close()\n",
    "\n",
    "\n",
    "tests.test_folder_path(cifar10_dataset_folder_path)"
   ]
  },
  {
   "cell_type": "markdown",
   "metadata": {},
   "source": [
    "## Explore the Data\n",
    "The dataset is broken into batches to prevent your machine from running out of memory.  The CIFAR-10 dataset consists of 5 batches, named `data_batch_1`, `data_batch_2`, etc.. Each batch contains the labels and images that are one of the following:\n",
    "* airplane\n",
    "* automobile\n",
    "* bird\n",
    "* cat\n",
    "* deer\n",
    "* dog\n",
    "* frog\n",
    "* horse\n",
    "* ship\n",
    "* truck\n",
    "\n",
    "Understanding a dataset is part of making predictions on the data.  Play around with the code cell below by changing the `batch_id` and `sample_id`. The `batch_id` is the id for a batch (1-5). The `sample_id` is the id for a image and label pair in the batch.\n",
    "\n",
    "Ask yourself \"What are all possible labels?\", \"What is the range of values for the image data?\", \"Are the labels in order or random?\".  Answers to questions like these will help you preprocess the data and end up with better predictions."
   ]
  },
  {
   "cell_type": "code",
   "execution_count": 2,
   "metadata": {},
   "outputs": [
    {
     "name": "stdout",
     "output_type": "stream",
     "text": [
      "\n",
      "Stats of batch 1:\n",
      "Samples: 10000\n",
      "Label Counts: {0: 1005, 1: 974, 2: 1032, 3: 1016, 4: 999, 5: 937, 6: 1030, 7: 1001, 8: 1025, 9: 981}\n",
      "First 20 Labels: [6, 9, 9, 4, 1, 1, 2, 7, 8, 3, 4, 7, 7, 2, 9, 9, 9, 3, 2, 6]\n",
      "\n",
      "Example of Image 5:\n",
      "Image - Min Value: 0 Max Value: 252\n",
      "Image - Shape: (32, 32, 3)\n",
      "Label - Label Id: 1 Name: automobile\n"
     ]
    },
    {
     "data": {
      "image/png": "[encoded data removed]",
      "text/plain": [
       "<matplotlib.figure.Figure at 0x1e3849b70f0>"
      ]
     },
     "metadata": {
      "image/png": {
       "height": 250,
       "width": 253
      }
     },
     "output_type": "display_data"
    }
   ],
   "source": [
    "%matplotlib inline\n",
    "%config InlineBackend.figure_format = 'retina'\n",
    "\n",
    "import helper\n",
    "import numpy as np\n",
    "\n",
    "# Explore the dataset\n",
    "batch_id = 1\n",
    "sample_id = 5\n",
    "helper.display_stats(cifar10_dataset_folder_path, batch_id, sample_id)"
   ]
  },
  {
   "cell_type": "markdown",
   "metadata": {},
   "source": [
    "## Implement Preprocess Functions\n",
    "### Normalize\n",
    "In the cell below, implement the `normalize` function to take in image data, `x`, and return it as a normalized Numpy array. The values should be in the range of 0 to 1, inclusive.  The return object should be the same shape as `x`."
   ]
  },
  {
   "cell_type": "code",
   "execution_count": 3,
   "metadata": {},
   "outputs": [
    {
     "name": "stdout",
     "output_type": "stream",
     "text": [
      "Tests Passed\n"
     ]
    }
   ],
   "source": [
    "def normalize(x):\n",
    "    \"\"\"\n",
    "    Normalize a list of sample image data in the range of 0 to 1\n",
    "    : x: List of image data.  The image shape is (32, 32, 3)\n",
    "    : return: Numpy array of normalize data\n",
    "    \"\"\"\n",
    "    # TODO: Implement Function\n",
    "    \n",
    "    return x/255\n",
    "\n",
    "\n",
    "\"\"\"\n",
    "DON'T MODIFY ANYTHING IN THIS CELL THAT IS BELOW THIS LINE\n",
    "\"\"\"\n",
    "tests.test_normalize(normalize)"
   ]
  },
  {
   "cell_type": "markdown",
   "metadata": {},
   "source": [
    "### One-hot encode\n",
    "Just like the previous code cell, you'll be implementing a function for preprocessing.  This time, you'll implement the `one_hot_encode` function. The input, `x`, are a list of labels.  Implement the function to return the list of labels as One-Hot encoded Numpy array.  The possible values for labels are 0 to 9. The one-hot encoding function should return the same encoding for each value between each call to `one_hot_encode`.  Make sure to save the map of encodings outside the function.\n",
    "\n",
    "Hint: Don't reinvent the wheel."
   ]
  },
  {
   "cell_type": "code",
   "execution_count": 4,
   "metadata": {},
   "outputs": [
    {
     "name": "stdout",
     "output_type": "stream",
     "text": [
      "Tests Passed\n"
     ]
    }
   ],
   "source": [
    "def one_hot_encode(x):\n",
    "    \"\"\"\n",
    "    One hot encode a list of sample labels. Return a one-hot encoded vector for each label.\n",
    "    : x: List of sample Labels\n",
    "    : return: Numpy array of one-hot encoded labels\n",
    "    \"\"\"\n",
    "    # TODO: Implement Function\n",
    "    x_list = list()\n",
    "    for i in x:\n",
    "        n_labels = np.zeros(10)\n",
    "        np.put(n_labels, i, 1)\n",
    "        x_list.append(n_labels)\n",
    "        \n",
    "    return np.array(x_list)\n",
    "\n",
    "\n",
    "\"\"\"\n",
    "DON'T MODIFY ANYTHING IN THIS CELL THAT IS BELOW THIS LINE\n",
    "\"\"\"\n",
    "tests.test_one_hot_encode(one_hot_encode)"
   ]
  },
  {
   "cell_type": "markdown",
   "metadata": {},
   "source": [
    "### Randomize Data\n",
    "As you saw from exploring the data above, the order of the samples are randomized.  It doesn't hurt to randomize it again, but you don't need to for this dataset."
   ]
  },
  {
   "cell_type": "markdown",
   "metadata": {},
   "source": [
    "## Preprocess all the data and save it\n",
    "Running the code cell below will preprocess all the CIFAR-10 data and save it to file. The code below also uses 10% of the training data for validation."
   ]
  },
  {
   "cell_type": "code",
   "execution_count": 5,
   "metadata": {},
   "outputs": [],
   "source": [
    "\"\"\"\n",
    "DON'T MODIFY ANYTHING IN THIS CELL\n",
    "\"\"\"\n",
    "# Preprocess Training, Validation, and Testing Data\n",
    "helper.preprocess_and_save_data(cifar10_dataset_folder_path, normalize, one_hot_encode)"
   ]
  },
  {
   "cell_type": "markdown",
   "metadata": {},
   "source": [
    "# Check Point\n",
    "This is your first checkpoint.  If you ever decide to come back to this notebook or have to restart the notebook, you can start from here.  The preprocessed data has been saved to disk."
   ]
  },
  {
   "cell_type": "code",
   "execution_count": 6,
   "metadata": {},
   "outputs": [],
   "source": [
    "\"\"\"\n",
    "DON'T MODIFY ANYTHING IN THIS CELL\n",
    "\"\"\"\n",
    "import pickle\n",
    "import problem_unittests as tests\n",
    "import helper\n",
    "\n",
    "# Load the Preprocessed Validation data\n",
    "valid_features, valid_labels = pickle.load(open('preprocess_validation.p', mode='rb'))"
   ]
  },
  {
   "cell_type": "markdown",
   "metadata": {},
   "source": [
    "## Build the network\n",
    "For the neural network, you'll build each layer into a function.  Most of the code you've seen has been outside of functions. To test your code more thoroughly, we require that you put each layer in a function.  This allows us to give you better feedback and test for simple mistakes using our unittests before you submit your project.\n",
    "\n",
    ">**Note:** If you're finding it hard to dedicate enough time for this course each week, we've provided a small shortcut to this part of the project. In the next couple of problems, you'll have the option to use classes from the [TensorFlow Layers](https://www.tensorflow.org/api_docs/python/tf/layers) or [TensorFlow Layers (contrib)](https://www.tensorflow.org/api_guides/python/contrib.layers) packages to build each layer, except the layers you build in the \"Convolutional and Max Pooling Layer\" section.  TF Layers is similar to Keras's and TFLearn's abstraction to layers, so it's easy to pickup.\n",
    "\n",
    ">However, if you would like to get the most out of this course, try to solve all the problems _without_ using anything from the TF Layers packages. You **can** still use classes from other packages that happen to have the same name as ones you find in TF Layers! For example, instead of using the TF Layers version of the `conv2d` class, [tf.layers.conv2d](https://www.tensorflow.org/api_docs/python/tf/layers/conv2d), you would want to use the TF Neural Network version of `conv2d`, [tf.nn.conv2d](https://www.tensorflow.org/api_docs/python/tf/nn/conv2d). \n",
    "\n",
    "Let's begin!\n",
    "\n",
    "### Input\n",
    "The neural network needs to read the image data, one-hot encoded labels, and dropout keep probability. Implement the following functions\n",
    "* Implement `neural_net_image_input`\n",
    " * Return a [TF Placeholder](https://www.tensorflow.org/api_docs/python/tf/placeholder)\n",
    " * Set the shape using `image_shape` with batch size set to `None`.\n",
    " * Name the TensorFlow placeholder \"x\" using the TensorFlow `name` parameter in the [TF Placeholder](https://www.tensorflow.org/api_docs/python/tf/placeholder).\n",
    "* Implement `neural_net_label_input`\n",
    " * Return a [TF Placeholder](https://www.tensorflow.org/api_docs/python/tf/placeholder)\n",
    " * Set the shape using `n_classes` with batch size set to `None`.\n",
    " * Name the TensorFlow placeholder \"y\" using the TensorFlow `name` parameter in the [TF Placeholder](https://www.tensorflow.org/api_docs/python/tf/placeholder).\n",
    "* Implement `neural_net_keep_prob_input`\n",
    " * Return a [TF Placeholder](https://www.tensorflow.org/api_docs/python/tf/placeholder) for dropout keep probability.\n",
    " * Name the TensorFlow placeholder \"keep_prob\" using the TensorFlow `name` parameter in the [TF Placeholder](https://www.tensorflow.org/api_docs/python/tf/placeholder).\n",
    "\n",
    "These names will be used at the end of the project to load your saved model.\n",
    "\n",
    "Note: `None` for shapes in TensorFlow allow for a dynamic size."
   ]
  },
  {
   "cell_type": "code",
   "execution_count": 7,
   "metadata": {},
   "outputs": [
    {
     "name": "stdout",
     "output_type": "stream",
     "text": [
      "Image Input Tests Passed.\n",
      "Label Input Tests Passed.\n",
      "Keep Prob Tests Passed.\n"
     ]
    }
   ],
   "source": [
    "import tensorflow as tf\n",
    "\n",
    "def neural_net_image_input(image_shape):\n",
    "    \"\"\"\n",
    "    Return a Tensor for a batch of image input\n",
    "    : image_shape: Shape of the images\n",
    "    : return: Tensor for image input.\n",
    "    \"\"\"\n",
    "    # TODO: Implement Function\n",
    "    \n",
    "    return tf.placeholder(tf.float32, shape=[None, image_shape[0], image_shape[1], image_shape[2]], name='x')\n",
    "\n",
    "\n",
    "def neural_net_label_input(n_classes):\n",
    "    \"\"\"\n",
    "    Return a Tensor for a batch of label input\n",
    "    : n_classes: Number of classes\n",
    "    : return: Tensor for label input.\n",
    "    \"\"\"\n",
    "    # TODO: Implement Function\n",
    "    return tf.placeholder(tf.float32, shape=[None, n_classes], name='y')\n",
    "\n",
    "\n",
    "def neural_net_keep_prob_input():\n",
    "    \"\"\"\n",
    "    Return a Tensor for keep probability\n",
    "    : return: Tensor for keep probability.\n",
    "    \"\"\"\n",
    "    # TODO: Implement Function\n",
    "    return tf.placeholder(tf.float32, name='keep_prob')\n",
    "\n",
    "\n",
    "\"\"\"\n",
    "DON'T MODIFY ANYTHING IN THIS CELL THAT IS BELOW THIS LINE\n",
    "\"\"\"\n",
    "tf.reset_default_graph()\n",
    "tests.test_nn_image_inputs(neural_net_image_input)\n",
    "tests.test_nn_label_inputs(neural_net_label_input)\n",
    "tests.test_nn_keep_prob_inputs(neural_net_keep_prob_input)"
   ]
  },
  {
   "cell_type": "markdown",
   "metadata": {},
   "source": [
    "### Convolution and Max Pooling Layer\n",
    "Convolution layers have a lot of success with images. For this code cell, you should implement the function `conv2d_maxpool` to apply convolution then max pooling:\n",
    "* Create the weight and bias using `conv_ksize`, `conv_num_outputs` and the shape of `x_tensor`.\n",
    "* Apply a convolution to `x_tensor` using weight and `conv_strides`.\n",
    " * We recommend you use same padding, but you're welcome to use any padding.\n",
    "* Add bias\n",
    "* Add a nonlinear activation to the convolution.\n",
    "* Apply Max Pooling using `pool_ksize` and `pool_strides`.\n",
    " * We recommend you use same padding, but you're welcome to use any padding.\n",
    "\n",
    "**Note:** You **can't** use [TensorFlow Layers](https://www.tensorflow.org/api_docs/python/tf/layers) or [TensorFlow Layers (contrib)](https://www.tensorflow.org/api_guides/python/contrib.layers) for **this** layer, but you can still use TensorFlow's [Neural Network](https://www.tensorflow.org/api_docs/python/tf/nn) package. You may still use the shortcut option for all the **other** layers."
   ]
  },
  {
   "cell_type": "code",
   "execution_count": 8,
   "metadata": {},
   "outputs": [
    {
     "name": "stdout",
     "output_type": "stream",
     "text": [
      "Tests Passed\n"
     ]
    }
   ],
   "source": [
    "def conv2d_maxpool(x_tensor, conv_num_outputs, conv_ksize, conv_strides, pool_ksize, pool_strides):\n",
    "    \"\"\"\n",
    "    Apply convolution then max pooling to x_tensor\n",
    "    :param x_tensor: TensorFlow Tensor\n",
    "    :param conv_num_outputs: Number of outputs for the convolutional layer\n",
    "    :param conv_ksize: kernal size 2-D Tuple for the convolutional layer\n",
    "    :param conv_strides: Stride 2-D Tuple for convolution\n",
    "    :param pool_ksize: kernal size 2-D Tuple for pool\n",
    "    :param pool_strides: Stride 2-D Tuple for pool\n",
    "    : return: A tensor that represents convolution and max pooling of x_tensor\n",
    "    \"\"\"\n",
    "    # TODO: Implement Function\n",
    "    \n",
    "    weight = tf.Variable(tf.random_normal([conv_ksize[0], conv_ksize[1],\n",
    "                                           x_tensor.get_shape().as_list()[3],\n",
    "                                           conv_num_outputs], stddev = 0.1))\n",
    "    \n",
    "    bias = tf.Variable(tf.zeros(conv_num_outputs, dtype = tf.float32))\n",
    "    \n",
    "    x_tensor = tf.nn.conv2d(x_tensor, weight, strides=[1, conv_strides[0], conv_strides[1], 1], padding='SAME')\n",
    "    x_tensor = tf.nn.bias_add(x_tensor, bias)\n",
    "    x_tensor = tf.nn.max_pool(x_tensor, ksize=[1, pool_ksize[0], pool_ksize[1], 1],\n",
    "                             strides=[1, pool_strides[0], pool_strides[1], 1], padding='SAME')\n",
    "    x_tensor = tf.nn.relu(x_tensor)\n",
    "    \n",
    "    return x_tensor\n",
    "\n",
    "\n",
    "\"\"\"\n",
    "DON'T MODIFY ANYTHING IN THIS CELL THAT IS BELOW THIS LINE\n",
    "\"\"\"\n",
    "tests.test_con_pool(conv2d_maxpool)"
   ]
  },
  {
   "cell_type": "markdown",
   "metadata": {},
   "source": [
    "### Flatten Layer\n",
    "Implement the `flatten` function to change the dimension of `x_tensor` from a 4-D tensor to a 2-D tensor.  The output should be the shape (*Batch Size*, *Flattened Image Size*). Shortcut option: you can use classes from the [TensorFlow Layers](https://www.tensorflow.org/api_docs/python/tf/layers) or [TensorFlow Layers (contrib)](https://www.tensorflow.org/api_guides/python/contrib.layers) packages for this layer. For more of a challenge, only use other TensorFlow packages."
   ]
  },
  {
   "cell_type": "code",
   "execution_count": 9,
   "metadata": {},
   "outputs": [
    {
     "name": "stdout",
     "output_type": "stream",
     "text": [
      "Tests Passed\n"
     ]
    }
   ],
   "source": [
    "def flatten(x_tensor):\n",
    "    \"\"\"\n",
    "    Flatten x_tensor to (Batch Size, Flattened Image Size)\n",
    "    : x_tensor: A tensor of size (Batch Size, ...), where ... are the image dimensions.\n",
    "    : return: A tensor of size (Batch Size, Flattened Image Size).\n",
    "    \"\"\"\n",
    "    # TODO: Implement Function\n",
    "    width = x_tensor.shape[1].value\n",
    "    height = x_tensor.shape[2].value\n",
    "    depth = x_tensor.shape[3].value\n",
    "    return tf.reshape(x_tensor, [-1, width * height * depth])\n",
    "\n",
    "\n",
    "\"\"\"\n",
    "DON'T MODIFY ANYTHING IN THIS CELL THAT IS BELOW THIS LINE\n",
    "\"\"\"\n",
    "tests.test_flatten(flatten)"
   ]
  },
  {
   "cell_type": "markdown",
   "metadata": {},
   "source": [
    "### Fully-Connected Layer\n",
    "Implement the `fully_conn` function to apply a fully connected layer to `x_tensor` with the shape (*Batch Size*, *num_outputs*). Shortcut option: you can use classes from the [TensorFlow Layers](https://www.tensorflow.org/api_docs/python/tf/layers) or [TensorFlow Layers (contrib)](https://www.tensorflow.org/api_guides/python/contrib.layers) packages for this layer. For more of a challenge, only use other TensorFlow packages."
   ]
  },
  {
   "cell_type": "code",
   "execution_count": 10,
   "metadata": {},
   "outputs": [
    {
     "name": "stdout",
     "output_type": "stream",
     "text": [
      "Tests Passed\n"
     ]
    }
   ],
   "source": [
    "def fully_conn(x_tensor, num_outputs):\n",
    "    \"\"\"\n",
    "    Apply a fully connected layer to x_tensor using weight and bias\n",
    "    : x_tensor: A 2-D tensor where the first dimension is batch size.\n",
    "    : num_outputs: The number of output that the new tensor should be.\n",
    "    : return: A 2-D tensor where the second dimension is num_outputs.\n",
    "    \"\"\"\n",
    "    # TODO: Implement Function\n",
    "    n_feat = x_tensor.shape[1].value\n",
    "    weights = tf.Variable(tf.random_normal([n_feat, num_outputs], stddev=0.1))\n",
    "    bias = tf.Variable(tf.zeros(num_outputs))\n",
    "    return tf.nn.relu(tf.add(tf.matmul(x_tensor, weights), bias))\n",
    "\n",
    "\n",
    "\"\"\"\n",
    "DON'T MODIFY ANYTHING IN THIS CELL THAT IS BELOW THIS LINE\n",
    "\"\"\"\n",
    "tests.test_fully_conn(fully_conn)"
   ]
  },
  {
   "cell_type": "markdown",
   "metadata": {},
   "source": [
    "### Output Layer\n",
    "Implement the `output` function to apply a fully connected layer to `x_tensor` with the shape (*Batch Size*, *num_outputs*). Shortcut option: you can use classes from the [TensorFlow Layers](https://www.tensorflow.org/api_docs/python/tf/layers) or [TensorFlow Layers (contrib)](https://www.tensorflow.org/api_guides/python/contrib.layers) packages for this layer. For more of a challenge, only use other TensorFlow packages.\n",
    "\n",
    "**Note:** Activation, softmax, or cross entropy should **not** be applied to this."
   ]
  },
  {
   "cell_type": "code",
   "execution_count": 11,
   "metadata": {},
   "outputs": [
    {
     "name": "stdout",
     "output_type": "stream",
     "text": [
      "Tests Passed\n"
     ]
    }
   ],
   "source": [
    "def output(x_tensor, num_outputs):\n",
    "    \"\"\"\n",
    "    Apply a output layer to x_tensor using weight and bias\n",
    "    : x_tensor: A 2-D tensor where the first dimension is batch size.\n",
    "    : num_outputs: The number of output that the new tensor should be.\n",
    "    : return: A 2-D tensor where the second dimension is num_outputs.\n",
    "    \"\"\"\n",
    "    # TODO: Implement Function\n",
    "    \n",
    "    n_feat = x_tensor.shape[1].value\n",
    "    weights = tf.Variable(tf.random_normal([n_feat, num_outputs], stddev=0.1))\n",
    "    bias = tf.Variable(tf.zeros(num_outputs))\n",
    "    \n",
    "    return tf.add(tf.matmul(x_tensor, weights), bias)\n",
    "    \n",
    "\n",
    "\n",
    "\"\"\"\n",
    "DON'T MODIFY ANYTHING IN THIS CELL THAT IS BELOW THIS LINE\n",
    "\"\"\"\n",
    "tests.test_output(output)"
   ]
  },
  {
   "cell_type": "markdown",
   "metadata": {},
   "source": [
    "### Create Convolutional Model\n",
    "Implement the function `conv_net` to create a convolutional neural network model. The function takes in a batch of images, `x`, and outputs logits.  Use the layers you created above to create this model:\n",
    "\n",
    "* Apply 1, 2, or 3 Convolution and Max Pool layers\n",
    "* Apply a Flatten Layer\n",
    "* Apply 1, 2, or 3 Fully Connected Layers\n",
    "* Apply an Output Layer\n",
    "* Return the output\n",
    "* Apply [TensorFlow's Dropout](https://www.tensorflow.org/api_docs/python/tf/nn/dropout) to one or more layers in the model using `keep_prob`. "
   ]
  },
  {
   "cell_type": "code",
   "execution_count": 12,
   "metadata": {},
   "outputs": [
    {
     "name": "stdout",
     "output_type": "stream",
     "text": [
      "Neural Network Built!\n"
     ]
    }
   ],
   "source": [
    "def conv_net(x, keep_prob):\n",
    "    \"\"\"\n",
    "    Create a convolutional neural network model\n",
    "    : x: Placeholder tensor that holds image data.\n",
    "    : keep_prob: Placeholder tensor that hold dropout keep probability.\n",
    "    : return: Tensor that represents logits\n",
    "    \"\"\"\n",
    "    # TODO: Apply 1, 2, or 3 Convolution and Max Pool layers\n",
    "    #    Play around with different number of outputs, kernel size and stride\n",
    "    # Function Definition from Above:\n",
    "    #    conv2d_maxpool(x_tensor, conv_num_outputs, conv_ksize, conv_strides, pool_ksize, pool_strides)\n",
    "    conv_num_outputs = [16, 32, 64]\n",
    "    conv_ksize = (3, 3)\n",
    "    conv_strides = (1, 1)\n",
    "    pool_ksize = (3, 3)\n",
    "    pool_strides = (2, 2)\n",
    "    num_outputs = 10\n",
    "    \n",
    "    conv = conv2d_maxpool(x, conv_num_outputs[0], conv_ksize, conv_strides, pool_ksize, pool_strides)\n",
    "    conv = conv2d_maxpool(conv, conv_num_outputs[1], conv_ksize, conv_strides, pool_ksize, pool_strides)\n",
    "    conv = conv2d_maxpool(conv, conv_num_outputs[2], conv_ksize, conv_strides, pool_ksize, pool_strides)\n",
    "    \n",
    "\n",
    "    # TODO: Apply a Flatten Layer\n",
    "    # Function Definition from Above:\n",
    "    #   flatten(x_tensor)\n",
    "    flatten_layer = flatten(conv)\n",
    "    \n",
    "\n",
    "    # TODO: Apply 1, 2, or 3 Fully Connected Layers\n",
    "    #    Play around with different number of outputs\n",
    "    # Function Definition from Above:\n",
    "    #   fully_conn(x_tensor, num_outputs)\n",
    "    flatten_conv = fully_conn(flatten_layer, num_outputs*2)\n",
    "    flatten_conv = tf.nn.dropout(flatten_conv, keep_prob)\n",
    "    \n",
    "    \n",
    "    # TODO: Apply an Output Layer\n",
    "    #    Set this to the number of classes\n",
    "    # Function Definition from Above:\n",
    "    #   output(x_tensor, num_outputs)\n",
    "    out = output(flatten_conv, num_outputs)\n",
    "    \n",
    "    # TODO: return output\n",
    "    return out\n",
    "\n",
    "\n",
    "\"\"\"\n",
    "DON'T MODIFY ANYTHING IN THIS CELL THAT IS BELOW THIS LINE\n",
    "\"\"\"\n",
    "\n",
    "##############################\n",
    "## Build the Neural Network ##\n",
    "##############################\n",
    "\n",
    "# Remove previous weights, bias, inputs, etc..\n",
    "tf.reset_default_graph()\n",
    "\n",
    "# Inputs\n",
    "x = neural_net_image_input((32, 32, 3))\n",
    "y = neural_net_label_input(10)\n",
    "keep_prob = neural_net_keep_prob_input()\n",
    "\n",
    "# Model\n",
    "logits = conv_net(x, keep_prob)\n",
    "\n",
    "# Name logits Tensor, so that is can be loaded from disk after training\n",
    "logits = tf.identity(logits, name='logits')\n",
    "\n",
    "# Loss and Optimizer\n",
    "cost = tf.reduce_mean(tf.nn.softmax_cross_entropy_with_logits(logits=logits, labels=y))\n",
    "optimizer = tf.train.AdamOptimizer().minimize(cost)\n",
    "\n",
    "# Accuracy\n",
    "correct_pred = tf.equal(tf.argmax(logits, 1), tf.argmax(y, 1))\n",
    "accuracy = tf.reduce_mean(tf.cast(correct_pred, tf.float32), name='accuracy')\n",
    "\n",
    "tests.test_conv_net(conv_net)"
   ]
  },
  {
   "cell_type": "markdown",
   "metadata": {},
   "source": [
    "## Train the Neural Network\n",
    "### Single Optimization\n",
    "Implement the function `train_neural_network` to do a single optimization.  The optimization should use `optimizer` to optimize in `session` with a `feed_dict` of the following:\n",
    "* `x` for image input\n",
    "* `y` for labels\n",
    "* `keep_prob` for keep probability for dropout\n",
    "\n",
    "This function will be called for each batch, so `tf.global_variables_initializer()` has already been called.\n",
    "\n",
    "Note: Nothing needs to be returned. This function is only optimizing the neural network."
   ]
  },
  {
   "cell_type": "code",
   "execution_count": 13,
   "metadata": {},
   "outputs": [
    {
     "name": "stdout",
     "output_type": "stream",
     "text": [
      "Tests Passed\n"
     ]
    }
   ],
   "source": [
    "def train_neural_network(session, optimizer, keep_probability, feature_batch, label_batch):\n",
    "    \"\"\"\n",
    "    Optimize the session on a batch of images and labels\n",
    "    : session: Current TensorFlow session\n",
    "    : optimizer: TensorFlow optimizer function\n",
    "    : keep_probability: keep probability\n",
    "    : feature_batch: Batch of Numpy image data\n",
    "    : label_batch: Batch of Numpy label data\n",
    "    \"\"\"\n",
    "    # TODO: Implement Function\n",
    "    session.run(optimizer, feed_dict={x:feature_batch, y:label_batch, keep_prob:keep_probability})\n",
    "\n",
    "\n",
    "\"\"\"\n",
    "DON'T MODIFY ANYTHING IN THIS CELL THAT IS BELOW THIS LINE\n",
    "\"\"\"\n",
    "tests.test_train_nn(train_neural_network)"
   ]
  },
  {
   "cell_type": "markdown",
   "metadata": {},
   "source": [
    "### Show Stats\n",
    "Implement the function `print_stats` to print loss and validation accuracy.  Use the global variables `valid_features` and `valid_labels` to calculate validation accuracy.  Use a keep probability of `1.0` to calculate the loss and validation accuracy."
   ]
  },
  {
   "cell_type": "code",
   "execution_count": 14,
   "metadata": {},
   "outputs": [],
   "source": [
    "def print_stats(session, feature_batch, label_batch, cost, accuracy):\n",
    "    \"\"\"\n",
    "    Print information about loss and validation accuracy\n",
    "    : session: Current TensorFlow session\n",
    "    : feature_batch: Batch of Numpy image data\n",
    "    : label_batch: Batch of Numpy label data\n",
    "    : cost: TensorFlow cost function\n",
    "    : accuracy: TensorFlow accuracy function\n",
    "    \"\"\"\n",
    "    # TODO: Implement Function\n",
    "    loss = session.run(cost, feed_dict={x:feature_batch, y:label_batch, keep_prob:1.0})\n",
    "    \n",
    "    accuracy = session.run(accuracy, feed_dict={x:valid_features, y:valid_labels, keep_prob:1.0})\n",
    "    print('Loss={0} ValidationAccuracy={1}'. format(loss, accuracy))"
   ]
  },
  {
   "cell_type": "markdown",
   "metadata": {},
   "source": [
    "### Hyperparameters\n",
    "Tune the following parameters:\n",
    "* Set `epochs` to the number of iterations until the network stops learning or start overfitting\n",
    "* Set `batch_size` to the highest number that your machine has memory for.  Most people set them to common sizes of memory:\n",
    " * 64\n",
    " * 128\n",
    " * 256\n",
    " * ...\n",
    "* Set `keep_probability` to the probability of keeping a node using dropout"
   ]
  },
  {
   "cell_type": "code",
   "execution_count": 55,
   "metadata": {},
   "outputs": [],
   "source": [
    "# TODO: Tune Parameters\n",
    "epochs = 50\n",
    "batch_size = 128\n",
    "keep_probability = 0.72"
   ]
  },
  {
   "cell_type": "markdown",
   "metadata": {},
   "source": [
    "### Train on a Single CIFAR-10 Batch\n",
    "Instead of training the neural network on all the CIFAR-10 batches of data, let's use a single batch. This should save time while you iterate on the model to get a better accuracy.  Once the final validation accuracy is 50% or greater, run the model on all the data in the next section."
   ]
  },
  {
   "cell_type": "code",
   "execution_count": 56,
   "metadata": {},
   "outputs": [
    {
     "name": "stdout",
     "output_type": "stream",
     "text": [
      "Checking the Training on a Single Batch...\n",
      "Epoch  1, CIFAR-10 Batch 1:  Loss=2.1945455074310303 ValidationAccuracy=0.23999999463558197\n",
      "Epoch  2, CIFAR-10 Batch 1:  Loss=1.9819285869598389 ValidationAccuracy=0.30379998683929443\n",
      "Epoch  3, CIFAR-10 Batch 1:  Loss=1.8785415887832642 ValidationAccuracy=0.37619999051094055\n",
      "Epoch  4, CIFAR-10 Batch 1:  Loss=1.8066589832305908 ValidationAccuracy=0.40540000796318054\n",
      "Epoch  5, CIFAR-10 Batch 1:  Loss=1.7437183856964111 ValidationAccuracy=0.42239999771118164\n",
      "Epoch  6, CIFAR-10 Batch 1:  Loss=1.70047128200531 ValidationAccuracy=0.4410000145435333\n",
      "Epoch  7, CIFAR-10 Batch 1:  Loss=1.6286052465438843 ValidationAccuracy=0.43220001459121704\n",
      "Epoch  8, CIFAR-10 Batch 1:  Loss=1.5490188598632812 ValidationAccuracy=0.46399998664855957\n",
      "Epoch  9, CIFAR-10 Batch 1:  Loss=1.5143370628356934 ValidationAccuracy=0.46639999747276306\n",
      "Epoch 10, CIFAR-10 Batch 1:  Loss=1.4785593748092651 ValidationAccuracy=0.4713999927043915\n",
      "Epoch 11, CIFAR-10 Batch 1:  Loss=1.4120975732803345 ValidationAccuracy=0.48159998655319214\n",
      "Epoch 12, CIFAR-10 Batch 1:  Loss=1.334793210029602 ValidationAccuracy=0.49380001425743103\n",
      "Epoch 13, CIFAR-10 Batch 1:  Loss=1.278167724609375 ValidationAccuracy=0.4991999864578247\n",
      "Epoch 14, CIFAR-10 Batch 1:  Loss=1.3193212747573853 ValidationAccuracy=0.49459999799728394\n",
      "Epoch 15, CIFAR-10 Batch 1:  Loss=1.2202485799789429 ValidationAccuracy=0.5188000202178955\n",
      "Epoch 16, CIFAR-10 Batch 1:  Loss=1.2391517162322998 ValidationAccuracy=0.5049999952316284\n",
      "Epoch 17, CIFAR-10 Batch 1:  Loss=1.2003982067108154 ValidationAccuracy=0.5180000066757202\n",
      "Epoch 18, CIFAR-10 Batch 1:  Loss=1.1392157077789307 ValidationAccuracy=0.5342000126838684\n",
      "Epoch 19, CIFAR-10 Batch 1:  Loss=1.1099896430969238 ValidationAccuracy=0.5437999963760376\n",
      "Epoch 20, CIFAR-10 Batch 1:  Loss=1.0959892272949219 ValidationAccuracy=0.5171999931335449\n",
      "Epoch 21, CIFAR-10 Batch 1:  Loss=1.0490901470184326 ValidationAccuracy=0.5246000289916992\n",
      "Epoch 22, CIFAR-10 Batch 1:  Loss=1.0461161136627197 ValidationAccuracy=0.5504000186920166\n",
      "Epoch 23, CIFAR-10 Batch 1:  Loss=0.9592277407646179 ValidationAccuracy=0.5493999719619751\n",
      "Epoch 24, CIFAR-10 Batch 1:  Loss=0.9463644027709961 ValidationAccuracy=0.5511999726295471\n",
      "Epoch 25, CIFAR-10 Batch 1:  Loss=0.9436424970626831 ValidationAccuracy=0.5576000213623047\n",
      "Epoch 26, CIFAR-10 Batch 1:  Loss=0.9177743196487427 ValidationAccuracy=0.545199990272522\n",
      "Epoch 27, CIFAR-10 Batch 1:  Loss=0.8812030553817749 ValidationAccuracy=0.5576000213623047\n",
      "Epoch 28, CIFAR-10 Batch 1:  Loss=0.8493534326553345 ValidationAccuracy=0.5601999759674072\n",
      "Epoch 29, CIFAR-10 Batch 1:  Loss=0.8710719347000122 ValidationAccuracy=0.5332000255584717\n",
      "Epoch 30, CIFAR-10 Batch 1:  Loss=0.8327786326408386 ValidationAccuracy=0.5583999752998352\n",
      "Epoch 31, CIFAR-10 Batch 1:  Loss=0.7835100889205933 ValidationAccuracy=0.5527999997138977\n",
      "Epoch 32, CIFAR-10 Batch 1:  Loss=0.8024404644966125 ValidationAccuracy=0.5649999976158142\n",
      "Epoch 33, CIFAR-10 Batch 1:  Loss=0.7636834383010864 ValidationAccuracy=0.5673999786376953\n",
      "Epoch 34, CIFAR-10 Batch 1:  Loss=0.7932737469673157 ValidationAccuracy=0.546999990940094\n",
      "Epoch 35, CIFAR-10 Batch 1:  Loss=0.7509461641311646 ValidationAccuracy=0.567799985408783\n",
      "Epoch 36, CIFAR-10 Batch 1:  Loss=0.7575229406356812 ValidationAccuracy=0.5450000166893005\n",
      "Epoch 37, CIFAR-10 Batch 1:  Loss=0.7247268557548523 ValidationAccuracy=0.5609999895095825\n",
      "Epoch 38, CIFAR-10 Batch 1:  Loss=0.7549975514411926 ValidationAccuracy=0.5562000274658203\n",
      "Epoch 39, CIFAR-10 Batch 1:  Loss=0.7147175073623657 ValidationAccuracy=0.5551999807357788\n",
      "Epoch 40, CIFAR-10 Batch 1:  Loss=0.6920008659362793 ValidationAccuracy=0.5727999806404114\n",
      "Epoch 41, CIFAR-10 Batch 1:  Loss=0.6572878360748291 ValidationAccuracy=0.5723999738693237\n",
      "Epoch 42, CIFAR-10 Batch 1:  Loss=0.6419040560722351 ValidationAccuracy=0.5763999819755554\n",
      "Epoch 43, CIFAR-10 Batch 1:  Loss=0.6374068260192871 ValidationAccuracy=0.5788000226020813\n",
      "Epoch 44, CIFAR-10 Batch 1:  Loss=0.660787045955658 ValidationAccuracy=0.5694000124931335\n",
      "Epoch 45, CIFAR-10 Batch 1:  Loss=0.6525881886482239 ValidationAccuracy=0.5726000070571899\n",
      "Epoch 46, CIFAR-10 Batch 1:  Loss=0.6536127328872681 ValidationAccuracy=0.5705999732017517\n",
      "Epoch 47, CIFAR-10 Batch 1:  Loss=0.6784077882766724 ValidationAccuracy=0.5722000002861023\n",
      "Epoch 48, CIFAR-10 Batch 1:  Loss=0.6475329399108887 ValidationAccuracy=0.5756000280380249\n",
      "Epoch 49, CIFAR-10 Batch 1:  Loss=0.7316391468048096 ValidationAccuracy=0.5849999785423279\n",
      "Epoch 50, CIFAR-10 Batch 1:  Loss=0.6165792346000671 ValidationAccuracy=0.5870000123977661\n"
     ]
    }
   ],
   "source": [
    "\"\"\"\n",
    "DON'T MODIFY ANYTHING IN THIS CELL\n",
    "\"\"\"\n",
    "print('Checking the Training on a Single Batch...')\n",
    "with tf.Session() as sess:\n",
    "    # Initializing the variables\n",
    "    sess.run(tf.global_variables_initializer())\n",
    "    \n",
    "    # Training cycle\n",
    "    for epoch in range(epochs):\n",
    "        batch_i = 1\n",
    "        for batch_features, batch_labels in helper.load_preprocess_training_batch(batch_i, batch_size):\n",
    "            train_neural_network(sess, optimizer, keep_probability, batch_features, batch_labels)\n",
    "        print('Epoch {:>2}, CIFAR-10 Batch {}:  '.format(epoch + 1, batch_i), end='')\n",
    "        print_stats(sess, batch_features, batch_labels, cost, accuracy)"
   ]
  },
  {
   "cell_type": "markdown",
   "metadata": {},
   "source": [
    "### Fully Train the Model\n",
    "Now that you got a good accuracy with a single CIFAR-10 batch, try it with all five batches."
   ]
  },
  {
   "cell_type": "code",
   "execution_count": 57,
   "metadata": {},
   "outputs": [
    {
     "name": "stdout",
     "output_type": "stream",
     "text": [
      "Training...\n",
      "Epoch  1, CIFAR-10 Batch 1:  Loss=2.1711230278015137 ValidationAccuracy=0.18119999766349792\n",
      "Epoch  1, CIFAR-10 Batch 2:  Loss=1.9324661493301392 ValidationAccuracy=0.34299999475479126\n",
      "Epoch  1, CIFAR-10 Batch 3:  Loss=1.686239242553711 ValidationAccuracy=0.3677999973297119\n",
      "Epoch  1, CIFAR-10 Batch 4:  Loss=1.6860828399658203 ValidationAccuracy=0.39820000529289246\n",
      "Epoch  1, CIFAR-10 Batch 5:  Loss=1.625295877456665 ValidationAccuracy=0.415800005197525\n",
      "Epoch  2, CIFAR-10 Batch 1:  Loss=1.7732017040252686 ValidationAccuracy=0.43540000915527344\n",
      "Epoch  2, CIFAR-10 Batch 2:  Loss=1.6339149475097656 ValidationAccuracy=0.44839999079704285\n",
      "Epoch  2, CIFAR-10 Batch 3:  Loss=1.4114456176757812 ValidationAccuracy=0.45419999957084656\n",
      "Epoch  2, CIFAR-10 Batch 4:  Loss=1.4940767288208008 ValidationAccuracy=0.4708000123500824\n",
      "Epoch  2, CIFAR-10 Batch 5:  Loss=1.4378745555877686 ValidationAccuracy=0.46959999203681946\n",
      "Epoch  3, CIFAR-10 Batch 1:  Loss=1.4876267910003662 ValidationAccuracy=0.4970000088214874\n",
      "Epoch  3, CIFAR-10 Batch 2:  Loss=1.5285415649414062 ValidationAccuracy=0.47380000352859497\n",
      "Epoch  3, CIFAR-10 Batch 3:  Loss=1.2597615718841553 ValidationAccuracy=0.4848000109195709\n",
      "Epoch  3, CIFAR-10 Batch 4:  Loss=1.3361730575561523 ValidationAccuracy=0.5130000114440918\n",
      "Epoch  3, CIFAR-10 Batch 5:  Loss=1.336573839187622 ValidationAccuracy=0.5070000290870667\n",
      "Epoch  4, CIFAR-10 Batch 1:  Loss=1.3219926357269287 ValidationAccuracy=0.5284000039100647\n",
      "Epoch  4, CIFAR-10 Batch 2:  Loss=1.4071887731552124 ValidationAccuracy=0.5320000052452087\n",
      "Epoch  4, CIFAR-10 Batch 3:  Loss=1.075977087020874 ValidationAccuracy=0.5052000284194946\n",
      "Epoch  4, CIFAR-10 Batch 4:  Loss=1.2368768453598022 ValidationAccuracy=0.5491999983787537\n",
      "Epoch  4, CIFAR-10 Batch 5:  Loss=1.2137552499771118 ValidationAccuracy=0.5382000207901001\n",
      "Epoch  5, CIFAR-10 Batch 1:  Loss=1.2197821140289307 ValidationAccuracy=0.5633999705314636\n",
      "Epoch  5, CIFAR-10 Batch 2:  Loss=1.2929832935333252 ValidationAccuracy=0.5555999875068665\n",
      "Epoch  5, CIFAR-10 Batch 3:  Loss=1.0607354640960693 ValidationAccuracy=0.5550000071525574\n",
      "Epoch  5, CIFAR-10 Batch 4:  Loss=1.136082410812378 ValidationAccuracy=0.5727999806404114\n",
      "Epoch  5, CIFAR-10 Batch 5:  Loss=1.1441196203231812 ValidationAccuracy=0.555400013923645\n",
      "Epoch  6, CIFAR-10 Batch 1:  Loss=1.131954550743103 ValidationAccuracy=0.5685999989509583\n",
      "Epoch  6, CIFAR-10 Batch 2:  Loss=1.1638178825378418 ValidationAccuracy=0.5748000144958496\n",
      "Epoch  6, CIFAR-10 Batch 3:  Loss=0.9766484498977661 ValidationAccuracy=0.5699999928474426\n",
      "Epoch  6, CIFAR-10 Batch 4:  Loss=1.1201609373092651 ValidationAccuracy=0.5776000022888184\n",
      "Epoch  6, CIFAR-10 Batch 5:  Loss=1.0608880519866943 ValidationAccuracy=0.5863999724388123\n",
      "Epoch  7, CIFAR-10 Batch 1:  Loss=1.0872938632965088 ValidationAccuracy=0.598800003528595\n",
      "Epoch  7, CIFAR-10 Batch 2:  Loss=1.1190265417099 ValidationAccuracy=0.593999981880188\n",
      "Epoch  7, CIFAR-10 Batch 3:  Loss=0.9228107333183289 ValidationAccuracy=0.5831999778747559\n",
      "Epoch  7, CIFAR-10 Batch 4:  Loss=1.0219615697860718 ValidationAccuracy=0.602400004863739\n",
      "Epoch  7, CIFAR-10 Batch 5:  Loss=1.0398979187011719 ValidationAccuracy=0.5952000021934509\n",
      "Epoch  8, CIFAR-10 Batch 1:  Loss=1.0009868144989014 ValidationAccuracy=0.5889999866485596\n",
      "Epoch  8, CIFAR-10 Batch 2:  Loss=1.0465096235275269 ValidationAccuracy=0.6150000095367432\n",
      "Epoch  8, CIFAR-10 Batch 3:  Loss=0.8383184671401978 ValidationAccuracy=0.6137999892234802\n",
      "Epoch  8, CIFAR-10 Batch 4:  Loss=1.015174150466919 ValidationAccuracy=0.6164000034332275\n",
      "Epoch  8, CIFAR-10 Batch 5:  Loss=0.9564838409423828 ValidationAccuracy=0.6155999898910522\n",
      "Epoch  9, CIFAR-10 Batch 1:  Loss=0.9219682812690735 ValidationAccuracy=0.61080002784729\n",
      "Epoch  9, CIFAR-10 Batch 2:  Loss=0.9782228469848633 ValidationAccuracy=0.6359999775886536\n",
      "Epoch  9, CIFAR-10 Batch 3:  Loss=0.8011381030082703 ValidationAccuracy=0.616599977016449\n",
      "Epoch  9, CIFAR-10 Batch 4:  Loss=0.8985480070114136 ValidationAccuracy=0.616599977016449\n",
      "Epoch  9, CIFAR-10 Batch 5:  Loss=0.9032756090164185 ValidationAccuracy=0.6290000081062317\n",
      "Epoch 10, CIFAR-10 Batch 1:  Loss=0.8863388895988464 ValidationAccuracy=0.6362000107765198\n",
      "Epoch 10, CIFAR-10 Batch 2:  Loss=0.9391258358955383 ValidationAccuracy=0.6380000114440918\n",
      "Epoch 10, CIFAR-10 Batch 3:  Loss=0.7592987418174744 ValidationAccuracy=0.625\n",
      "Epoch 10, CIFAR-10 Batch 4:  Loss=0.8680630922317505 ValidationAccuracy=0.6158000230789185\n",
      "Epoch 10, CIFAR-10 Batch 5:  Loss=0.8723773956298828 ValidationAccuracy=0.6287999749183655\n",
      "Epoch 11, CIFAR-10 Batch 1:  Loss=0.9295600652694702 ValidationAccuracy=0.6449999809265137\n",
      "Epoch 11, CIFAR-10 Batch 2:  Loss=0.8838391304016113 ValidationAccuracy=0.6474000215530396\n",
      "Epoch 11, CIFAR-10 Batch 3:  Loss=0.7398936748504639 ValidationAccuracy=0.6412000060081482\n",
      "Epoch 11, CIFAR-10 Batch 4:  Loss=0.8584672212600708 ValidationAccuracy=0.633400022983551\n",
      "Epoch 11, CIFAR-10 Batch 5:  Loss=0.8305589556694031 ValidationAccuracy=0.6312000155448914\n",
      "Epoch 12, CIFAR-10 Batch 1:  Loss=0.8517571687698364 ValidationAccuracy=0.6399999856948853\n",
      "Epoch 12, CIFAR-10 Batch 2:  Loss=0.8540666699409485 ValidationAccuracy=0.656000018119812\n",
      "Epoch 12, CIFAR-10 Batch 3:  Loss=0.7090880274772644 ValidationAccuracy=0.6488000154495239\n",
      "Epoch 12, CIFAR-10 Batch 4:  Loss=0.7606911063194275 ValidationAccuracy=0.6295999884605408\n",
      "Epoch 12, CIFAR-10 Batch 5:  Loss=0.7672492265701294 ValidationAccuracy=0.6624000072479248\n",
      "Epoch 13, CIFAR-10 Batch 1:  Loss=0.7940822839736938 ValidationAccuracy=0.6230000257492065\n",
      "Epoch 13, CIFAR-10 Batch 2:  Loss=0.8272619247436523 ValidationAccuracy=0.6579999923706055\n",
      "Epoch 13, CIFAR-10 Batch 3:  Loss=0.7051102519035339 ValidationAccuracy=0.6503999829292297\n",
      "Epoch 13, CIFAR-10 Batch 4:  Loss=0.7557603120803833 ValidationAccuracy=0.6438000202178955\n",
      "Epoch 13, CIFAR-10 Batch 5:  Loss=0.7566859126091003 ValidationAccuracy=0.6660000085830688\n",
      "Epoch 14, CIFAR-10 Batch 1:  Loss=0.7835254669189453 ValidationAccuracy=0.6574000120162964\n",
      "Epoch 14, CIFAR-10 Batch 2:  Loss=0.7672077417373657 ValidationAccuracy=0.6574000120162964\n",
      "Epoch 14, CIFAR-10 Batch 3:  Loss=0.605192244052887 ValidationAccuracy=0.6534000039100647\n",
      "Epoch 14, CIFAR-10 Batch 4:  Loss=0.7053025960922241 ValidationAccuracy=0.6462000012397766\n",
      "Epoch 14, CIFAR-10 Batch 5:  Loss=0.7464373111724854 ValidationAccuracy=0.6538000106811523\n",
      "Epoch 15, CIFAR-10 Batch 1:  Loss=0.7171651721000671 ValidationAccuracy=0.6517999768257141\n",
      "Epoch 15, CIFAR-10 Batch 2:  Loss=0.6533530950546265 ValidationAccuracy=0.675000011920929\n",
      "Epoch 15, CIFAR-10 Batch 3:  Loss=0.6029089093208313 ValidationAccuracy=0.659600019454956\n",
      "Epoch 15, CIFAR-10 Batch 4:  Loss=0.6941626667976379 ValidationAccuracy=0.6723999977111816\n",
      "Epoch 15, CIFAR-10 Batch 5:  Loss=0.6934524774551392 ValidationAccuracy=0.6665999889373779\n",
      "Epoch 16, CIFAR-10 Batch 1:  Loss=0.7670316696166992 ValidationAccuracy=0.6606000065803528\n",
      "Epoch 16, CIFAR-10 Batch 2:  Loss=0.6517843008041382 ValidationAccuracy=0.678600013256073\n",
      "Epoch 16, CIFAR-10 Batch 3:  Loss=0.5684620141983032 ValidationAccuracy=0.6656000018119812\n",
      "Epoch 16, CIFAR-10 Batch 4:  Loss=0.6496195793151855 ValidationAccuracy=0.6705999970436096\n",
      "Epoch 16, CIFAR-10 Batch 5:  Loss=0.6386009454727173 ValidationAccuracy=0.670799970626831\n",
      "Epoch 17, CIFAR-10 Batch 1:  Loss=0.6758318543434143 ValidationAccuracy=0.6597999930381775\n",
      "Epoch 17, CIFAR-10 Batch 2:  Loss=0.6012387275695801 ValidationAccuracy=0.6693999767303467\n",
      "Epoch 17, CIFAR-10 Batch 3:  Loss=0.5422030091285706 ValidationAccuracy=0.6733999848365784\n",
      "Epoch 17, CIFAR-10 Batch 4:  Loss=0.6513875126838684 ValidationAccuracy=0.6574000120162964\n",
      "Epoch 17, CIFAR-10 Batch 5:  Loss=0.6290010213851929 ValidationAccuracy=0.6751999855041504\n",
      "Epoch 18, CIFAR-10 Batch 1:  Loss=0.7061077952384949 ValidationAccuracy=0.6787999868392944\n",
      "Epoch 18, CIFAR-10 Batch 2:  Loss=0.6643301248550415 ValidationAccuracy=0.675599992275238\n",
      "Epoch 18, CIFAR-10 Batch 3:  Loss=0.5771515369415283 ValidationAccuracy=0.6651999950408936\n",
      "Epoch 18, CIFAR-10 Batch 4:  Loss=0.612669825553894 ValidationAccuracy=0.6625999808311462\n",
      "Epoch 18, CIFAR-10 Batch 5:  Loss=0.6017229557037354 ValidationAccuracy=0.673799991607666\n"
     ]
    },
    {
     "name": "stdout",
     "output_type": "stream",
     "text": [
      "Epoch 19, CIFAR-10 Batch 1:  Loss=0.6196131706237793 ValidationAccuracy=0.6837999820709229\n",
      "Epoch 19, CIFAR-10 Batch 2:  Loss=0.5841102004051208 ValidationAccuracy=0.6818000078201294\n",
      "Epoch 19, CIFAR-10 Batch 3:  Loss=0.48336848616600037 ValidationAccuracy=0.676800012588501\n",
      "Epoch 19, CIFAR-10 Batch 4:  Loss=0.570504903793335 ValidationAccuracy=0.6697999835014343\n",
      "Epoch 19, CIFAR-10 Batch 5:  Loss=0.5739794969558716 ValidationAccuracy=0.6764000058174133\n",
      "Epoch 20, CIFAR-10 Batch 1:  Loss=0.6356168985366821 ValidationAccuracy=0.6794000267982483\n",
      "Epoch 20, CIFAR-10 Batch 2:  Loss=0.5916308164596558 ValidationAccuracy=0.6705999970436096\n",
      "Epoch 20, CIFAR-10 Batch 3:  Loss=0.48278337717056274 ValidationAccuracy=0.682200014591217\n",
      "Epoch 20, CIFAR-10 Batch 4:  Loss=0.5594653487205505 ValidationAccuracy=0.6692000031471252\n",
      "Epoch 20, CIFAR-10 Batch 5:  Loss=0.577896237373352 ValidationAccuracy=0.6855999827384949\n",
      "Epoch 21, CIFAR-10 Batch 1:  Loss=0.5882038474082947 ValidationAccuracy=0.6777999997138977\n",
      "Epoch 21, CIFAR-10 Batch 2:  Loss=0.5941728353500366 ValidationAccuracy=0.680400013923645\n",
      "Epoch 21, CIFAR-10 Batch 3:  Loss=0.4875117242336273 ValidationAccuracy=0.6827999949455261\n",
      "Epoch 21, CIFAR-10 Batch 4:  Loss=0.5224148631095886 ValidationAccuracy=0.6809999942779541\n",
      "Epoch 21, CIFAR-10 Batch 5:  Loss=0.5782607793807983 ValidationAccuracy=0.6801999807357788\n",
      "Epoch 22, CIFAR-10 Batch 1:  Loss=0.6012357473373413 ValidationAccuracy=0.6940000057220459\n",
      "Epoch 22, CIFAR-10 Batch 2:  Loss=0.5718269348144531 ValidationAccuracy=0.692799985408783\n",
      "Epoch 22, CIFAR-10 Batch 3:  Loss=0.483279287815094 ValidationAccuracy=0.682200014591217\n",
      "Epoch 22, CIFAR-10 Batch 4:  Loss=0.5502063035964966 ValidationAccuracy=0.6796000003814697\n",
      "Epoch 22, CIFAR-10 Batch 5:  Loss=0.48567771911621094 ValidationAccuracy=0.6851999759674072\n",
      "Epoch 23, CIFAR-10 Batch 1:  Loss=0.5757453441619873 ValidationAccuracy=0.6880000233650208\n",
      "Epoch 23, CIFAR-10 Batch 2:  Loss=0.5880643129348755 ValidationAccuracy=0.6747999787330627\n",
      "Epoch 23, CIFAR-10 Batch 3:  Loss=0.4517054557800293 ValidationAccuracy=0.6898000240325928\n",
      "Epoch 23, CIFAR-10 Batch 4:  Loss=0.49369269609451294 ValidationAccuracy=0.6908000111579895\n",
      "Epoch 23, CIFAR-10 Batch 5:  Loss=0.4837641716003418 ValidationAccuracy=0.6973999738693237\n",
      "Epoch 24, CIFAR-10 Batch 1:  Loss=0.570526659488678 ValidationAccuracy=0.6919999718666077\n",
      "Epoch 24, CIFAR-10 Batch 2:  Loss=0.5856718420982361 ValidationAccuracy=0.6858000159263611\n",
      "Epoch 24, CIFAR-10 Batch 3:  Loss=0.45097750425338745 ValidationAccuracy=0.6877999901771545\n",
      "Epoch 24, CIFAR-10 Batch 4:  Loss=0.4803451597690582 ValidationAccuracy=0.6934000253677368\n",
      "Epoch 24, CIFAR-10 Batch 5:  Loss=0.431767076253891 ValidationAccuracy=0.6937999725341797\n",
      "Epoch 25, CIFAR-10 Batch 1:  Loss=0.5802095532417297 ValidationAccuracy=0.6953999996185303\n",
      "Epoch 25, CIFAR-10 Batch 2:  Loss=0.5123814344406128 ValidationAccuracy=0.6845999956130981\n",
      "Epoch 25, CIFAR-10 Batch 3:  Loss=0.4392945170402527 ValidationAccuracy=0.6826000213623047\n",
      "Epoch 25, CIFAR-10 Batch 4:  Loss=0.45852622389793396 ValidationAccuracy=0.6859999895095825\n",
      "Epoch 25, CIFAR-10 Batch 5:  Loss=0.4680909216403961 ValidationAccuracy=0.6898000240325928\n",
      "Epoch 26, CIFAR-10 Batch 1:  Loss=0.5226339101791382 ValidationAccuracy=0.6967999935150146\n",
      "Epoch 26, CIFAR-10 Batch 2:  Loss=0.5433253645896912 ValidationAccuracy=0.6783999800682068\n",
      "Epoch 26, CIFAR-10 Batch 3:  Loss=0.4544057250022888 ValidationAccuracy=0.6844000220298767\n",
      "Epoch 26, CIFAR-10 Batch 4:  Loss=0.4467636048793793 ValidationAccuracy=0.6966000199317932\n",
      "Epoch 26, CIFAR-10 Batch 5:  Loss=0.44760823249816895 ValidationAccuracy=0.6941999793052673\n",
      "Epoch 27, CIFAR-10 Batch 1:  Loss=0.5253113508224487 ValidationAccuracy=0.6886000037193298\n",
      "Epoch 27, CIFAR-10 Batch 2:  Loss=0.4994911253452301 ValidationAccuracy=0.696399986743927\n",
      "Epoch 27, CIFAR-10 Batch 3:  Loss=0.44689273834228516 ValidationAccuracy=0.7002000212669373\n",
      "Epoch 27, CIFAR-10 Batch 4:  Loss=0.4457910656929016 ValidationAccuracy=0.6955999732017517\n",
      "Epoch 27, CIFAR-10 Batch 5:  Loss=0.4005254805088043 ValidationAccuracy=0.692799985408783\n",
      "Epoch 28, CIFAR-10 Batch 1:  Loss=0.48873764276504517 ValidationAccuracy=0.6972000002861023\n",
      "Epoch 28, CIFAR-10 Batch 2:  Loss=0.4575003683567047 ValidationAccuracy=0.6944000124931335\n",
      "Epoch 28, CIFAR-10 Batch 3:  Loss=0.41768568754196167 ValidationAccuracy=0.6976000070571899\n",
      "Epoch 28, CIFAR-10 Batch 4:  Loss=0.42474231123924255 ValidationAccuracy=0.692799985408783\n",
      "Epoch 28, CIFAR-10 Batch 5:  Loss=0.40356263518333435 ValidationAccuracy=0.6958000063896179\n",
      "Epoch 29, CIFAR-10 Batch 1:  Loss=0.48693332076072693 ValidationAccuracy=0.7038000226020813\n",
      "Epoch 29, CIFAR-10 Batch 2:  Loss=0.49148330092430115 ValidationAccuracy=0.6876000165939331\n",
      "Epoch 29, CIFAR-10 Batch 3:  Loss=0.40500593185424805 ValidationAccuracy=0.6985999941825867\n",
      "Epoch 29, CIFAR-10 Batch 4:  Loss=0.4362831711769104 ValidationAccuracy=0.6955999732017517\n",
      "Epoch 29, CIFAR-10 Batch 5:  Loss=0.40745577216148376 ValidationAccuracy=0.7026000022888184\n",
      "Epoch 30, CIFAR-10 Batch 1:  Loss=0.49212846159935 ValidationAccuracy=0.6966000199317932\n",
      "Epoch 30, CIFAR-10 Batch 2:  Loss=0.4542427659034729 ValidationAccuracy=0.6940000057220459\n",
      "Epoch 30, CIFAR-10 Batch 3:  Loss=0.4159437119960785 ValidationAccuracy=0.6959999799728394\n",
      "Epoch 30, CIFAR-10 Batch 4:  Loss=0.375744491815567 ValidationAccuracy=0.7110000252723694\n",
      "Epoch 30, CIFAR-10 Batch 5:  Loss=0.40380874276161194 ValidationAccuracy=0.6931999921798706\n",
      "Epoch 31, CIFAR-10 Batch 1:  Loss=0.4938748776912689 ValidationAccuracy=0.6976000070571899\n",
      "Epoch 31, CIFAR-10 Batch 2:  Loss=0.41261619329452515 ValidationAccuracy=0.6973999738693237\n",
      "Epoch 31, CIFAR-10 Batch 3:  Loss=0.4105883538722992 ValidationAccuracy=0.6949999928474426\n",
      "Epoch 31, CIFAR-10 Batch 4:  Loss=0.37724965810775757 ValidationAccuracy=0.7059999704360962\n",
      "Epoch 31, CIFAR-10 Batch 5:  Loss=0.4060860574245453 ValidationAccuracy=0.7057999968528748\n",
      "Epoch 32, CIFAR-10 Batch 1:  Loss=0.455702543258667 ValidationAccuracy=0.6980000138282776\n",
      "Epoch 32, CIFAR-10 Batch 2:  Loss=0.39808908104896545 ValidationAccuracy=0.7008000016212463\n",
      "Epoch 32, CIFAR-10 Batch 3:  Loss=0.4031386375427246 ValidationAccuracy=0.6931999921798706\n",
      "Epoch 32, CIFAR-10 Batch 4:  Loss=0.36637774109840393 ValidationAccuracy=0.7038000226020813\n",
      "Epoch 32, CIFAR-10 Batch 5:  Loss=0.39487409591674805 ValidationAccuracy=0.6937999725341797\n",
      "Epoch 33, CIFAR-10 Batch 1:  Loss=0.4382784366607666 ValidationAccuracy=0.6970000267028809\n",
      "Epoch 33, CIFAR-10 Batch 2:  Loss=0.41485053300857544 ValidationAccuracy=0.699999988079071\n",
      "Epoch 33, CIFAR-10 Batch 3:  Loss=0.3563423752784729 ValidationAccuracy=0.7027999758720398\n",
      "Epoch 33, CIFAR-10 Batch 4:  Loss=0.3611757159233093 ValidationAccuracy=0.7016000151634216\n",
      "Epoch 33, CIFAR-10 Batch 5:  Loss=0.4080963730812073 ValidationAccuracy=0.7002000212669373\n",
      "Epoch 34, CIFAR-10 Batch 1:  Loss=0.4524742066860199 ValidationAccuracy=0.692799985408783\n",
      "Epoch 34, CIFAR-10 Batch 2:  Loss=0.4442320466041565 ValidationAccuracy=0.6868000030517578\n",
      "Epoch 34, CIFAR-10 Batch 3:  Loss=0.343832403421402 ValidationAccuracy=0.696399986743927\n",
      "Epoch 34, CIFAR-10 Batch 4:  Loss=0.29587921500205994 ValidationAccuracy=0.7034000158309937\n",
      "Epoch 34, CIFAR-10 Batch 5:  Loss=0.3804602026939392 ValidationAccuracy=0.7002000212669373\n",
      "Epoch 35, CIFAR-10 Batch 1:  Loss=0.483435720205307 ValidationAccuracy=0.7053999900817871\n",
      "Epoch 35, CIFAR-10 Batch 2:  Loss=0.41847094893455505 ValidationAccuracy=0.6899999976158142\n",
      "Epoch 35, CIFAR-10 Batch 3:  Loss=0.35720908641815186 ValidationAccuracy=0.70660001039505\n",
      "Epoch 35, CIFAR-10 Batch 4:  Loss=0.30167531967163086 ValidationAccuracy=0.7099999785423279\n",
      "Epoch 35, CIFAR-10 Batch 5:  Loss=0.38524487614631653 ValidationAccuracy=0.7053999900817871\n",
      "Epoch 36, CIFAR-10 Batch 1:  Loss=0.43237581849098206 ValidationAccuracy=0.7038000226020813\n",
      "Epoch 36, CIFAR-10 Batch 2:  Loss=0.42341071367263794 ValidationAccuracy=0.6980000138282776\n",
      "Epoch 36, CIFAR-10 Batch 3:  Loss=0.3714964985847473 ValidationAccuracy=0.7021999955177307\n",
      "Epoch 36, CIFAR-10 Batch 4:  Loss=0.2978169023990631 ValidationAccuracy=0.704800009727478\n"
     ]
    },
    {
     "name": "stdout",
     "output_type": "stream",
     "text": [
      "Epoch 36, CIFAR-10 Batch 5:  Loss=0.31872743368148804 ValidationAccuracy=0.715399980545044\n",
      "Epoch 37, CIFAR-10 Batch 1:  Loss=0.4275989532470703 ValidationAccuracy=0.699400007724762\n",
      "Epoch 37, CIFAR-10 Batch 2:  Loss=0.3866654336452484 ValidationAccuracy=0.6931999921798706\n",
      "Epoch 37, CIFAR-10 Batch 3:  Loss=0.35240957140922546 ValidationAccuracy=0.7093999981880188\n",
      "Epoch 37, CIFAR-10 Batch 4:  Loss=0.2986617088317871 ValidationAccuracy=0.704200029373169\n",
      "Epoch 37, CIFAR-10 Batch 5:  Loss=0.3215738832950592 ValidationAccuracy=0.703000009059906\n",
      "Epoch 38, CIFAR-10 Batch 1:  Loss=0.3950329124927521 ValidationAccuracy=0.7044000029563904\n",
      "Epoch 38, CIFAR-10 Batch 2:  Loss=0.3725508451461792 ValidationAccuracy=0.6953999996185303\n",
      "Epoch 38, CIFAR-10 Batch 3:  Loss=0.3618602752685547 ValidationAccuracy=0.7110000252723694\n",
      "Epoch 38, CIFAR-10 Batch 4:  Loss=0.32718178629875183 ValidationAccuracy=0.6934000253677368\n",
      "Epoch 38, CIFAR-10 Batch 5:  Loss=0.36981356143951416 ValidationAccuracy=0.6984000205993652\n",
      "Epoch 39, CIFAR-10 Batch 1:  Loss=0.4170815050601959 ValidationAccuracy=0.6962000131607056\n",
      "Epoch 39, CIFAR-10 Batch 2:  Loss=0.3878822922706604 ValidationAccuracy=0.7088000178337097\n",
      "Epoch 39, CIFAR-10 Batch 3:  Loss=0.35373881459236145 ValidationAccuracy=0.7113999724388123\n",
      "Epoch 39, CIFAR-10 Batch 4:  Loss=0.31780123710632324 ValidationAccuracy=0.6909999847412109\n",
      "Epoch 39, CIFAR-10 Batch 5:  Loss=0.35080593824386597 ValidationAccuracy=0.7006000280380249\n",
      "Epoch 40, CIFAR-10 Batch 1:  Loss=0.4089822769165039 ValidationAccuracy=0.7056000232696533\n",
      "Epoch 40, CIFAR-10 Batch 2:  Loss=0.3671594262123108 ValidationAccuracy=0.7024000287055969\n",
      "Epoch 40, CIFAR-10 Batch 3:  Loss=0.34142905473709106 ValidationAccuracy=0.7080000042915344\n",
      "Epoch 40, CIFAR-10 Batch 4:  Loss=0.3121455907821655 ValidationAccuracy=0.7008000016212463\n",
      "Epoch 40, CIFAR-10 Batch 5:  Loss=0.3938450217247009 ValidationAccuracy=0.6876000165939331\n",
      "Epoch 41, CIFAR-10 Batch 1:  Loss=0.40233173966407776 ValidationAccuracy=0.7002000212669373\n",
      "Epoch 41, CIFAR-10 Batch 2:  Loss=0.35980352759361267 ValidationAccuracy=0.7039999961853027\n",
      "Epoch 41, CIFAR-10 Batch 3:  Loss=0.3116718530654907 ValidationAccuracy=0.7056000232696533\n",
      "Epoch 41, CIFAR-10 Batch 4:  Loss=0.3076125979423523 ValidationAccuracy=0.7074000239372253\n",
      "Epoch 41, CIFAR-10 Batch 5:  Loss=0.3770132064819336 ValidationAccuracy=0.7071999907493591\n",
      "Epoch 42, CIFAR-10 Batch 1:  Loss=0.418448269367218 ValidationAccuracy=0.7013999819755554\n",
      "Epoch 42, CIFAR-10 Batch 2:  Loss=0.3971598744392395 ValidationAccuracy=0.6972000002861023\n",
      "Epoch 42, CIFAR-10 Batch 3:  Loss=0.3232058584690094 ValidationAccuracy=0.7134000062942505\n",
      "Epoch 42, CIFAR-10 Batch 4:  Loss=0.285768061876297 ValidationAccuracy=0.7052000164985657\n",
      "Epoch 42, CIFAR-10 Batch 5:  Loss=0.34185299277305603 ValidationAccuracy=0.6976000070571899\n",
      "Epoch 43, CIFAR-10 Batch 1:  Loss=0.3791324496269226 ValidationAccuracy=0.7057999968528748\n",
      "Epoch 43, CIFAR-10 Batch 2:  Loss=0.3720560073852539 ValidationAccuracy=0.7080000042915344\n",
      "Epoch 43, CIFAR-10 Batch 3:  Loss=0.341184139251709 ValidationAccuracy=0.7045999765396118\n",
      "Epoch 43, CIFAR-10 Batch 4:  Loss=0.2703281044960022 ValidationAccuracy=0.699999988079071\n",
      "Epoch 43, CIFAR-10 Batch 5:  Loss=0.3311670422554016 ValidationAccuracy=0.7093999981880188\n",
      "Epoch 44, CIFAR-10 Batch 1:  Loss=0.36797231435775757 ValidationAccuracy=0.6988000273704529\n",
      "Epoch 44, CIFAR-10 Batch 2:  Loss=0.3243010640144348 ValidationAccuracy=0.7125999927520752\n",
      "Epoch 44, CIFAR-10 Batch 3:  Loss=0.28885549306869507 ValidationAccuracy=0.7077999711036682\n",
      "Epoch 44, CIFAR-10 Batch 4:  Loss=0.2678152918815613 ValidationAccuracy=0.7149999737739563\n",
      "Epoch 44, CIFAR-10 Batch 5:  Loss=0.322202205657959 ValidationAccuracy=0.7084000110626221\n",
      "Epoch 45, CIFAR-10 Batch 1:  Loss=0.3851315677165985 ValidationAccuracy=0.7038000226020813\n",
      "Epoch 45, CIFAR-10 Batch 2:  Loss=0.3392258584499359 ValidationAccuracy=0.7088000178337097\n",
      "Epoch 45, CIFAR-10 Batch 3:  Loss=0.3214368224143982 ValidationAccuracy=0.6952000260353088\n",
      "Epoch 45, CIFAR-10 Batch 4:  Loss=0.27905556559562683 ValidationAccuracy=0.7116000056266785\n",
      "Epoch 45, CIFAR-10 Batch 5:  Loss=0.31859469413757324 ValidationAccuracy=0.7080000042915344\n",
      "Epoch 46, CIFAR-10 Batch 1:  Loss=0.383104145526886 ValidationAccuracy=0.6972000002861023\n",
      "Epoch 46, CIFAR-10 Batch 2:  Loss=0.3301869034767151 ValidationAccuracy=0.7056000232696533\n",
      "Epoch 46, CIFAR-10 Batch 3:  Loss=0.31612029671669006 ValidationAccuracy=0.7074000239372253\n",
      "Epoch 46, CIFAR-10 Batch 4:  Loss=0.2912365794181824 ValidationAccuracy=0.6916000247001648\n",
      "Epoch 46, CIFAR-10 Batch 5:  Loss=0.34312349557876587 ValidationAccuracy=0.704800009727478\n",
      "Epoch 47, CIFAR-10 Batch 1:  Loss=0.38672247529029846 ValidationAccuracy=0.6913999915122986\n",
      "Epoch 47, CIFAR-10 Batch 2:  Loss=0.3633081912994385 ValidationAccuracy=0.704200029373169\n",
      "Epoch 47, CIFAR-10 Batch 3:  Loss=0.2850516736507416 ValidationAccuracy=0.6984000205993652\n",
      "Epoch 47, CIFAR-10 Batch 4:  Loss=0.2808847427368164 ValidationAccuracy=0.698199987411499\n",
      "Epoch 47, CIFAR-10 Batch 5:  Loss=0.33829131722450256 ValidationAccuracy=0.7013999819755554\n",
      "Epoch 48, CIFAR-10 Batch 1:  Loss=0.37581348419189453 ValidationAccuracy=0.7034000158309937\n",
      "Epoch 48, CIFAR-10 Batch 2:  Loss=0.36029618978500366 ValidationAccuracy=0.7184000015258789\n",
      "Epoch 48, CIFAR-10 Batch 3:  Loss=0.2877558469772339 ValidationAccuracy=0.7071999907493591\n",
      "Epoch 48, CIFAR-10 Batch 4:  Loss=0.28142112493515015 ValidationAccuracy=0.6931999921798706\n",
      "Epoch 48, CIFAR-10 Batch 5:  Loss=0.30258697271347046 ValidationAccuracy=0.70660001039505\n",
      "Epoch 49, CIFAR-10 Batch 1:  Loss=0.35237962007522583 ValidationAccuracy=0.699400007724762\n",
      "Epoch 49, CIFAR-10 Batch 2:  Loss=0.34597113728523254 ValidationAccuracy=0.7161999940872192\n",
      "Epoch 49, CIFAR-10 Batch 3:  Loss=0.2805003225803375 ValidationAccuracy=0.7013999819755554\n",
      "Epoch 49, CIFAR-10 Batch 4:  Loss=0.26002952456474304 ValidationAccuracy=0.7084000110626221\n",
      "Epoch 49, CIFAR-10 Batch 5:  Loss=0.27387720346450806 ValidationAccuracy=0.7188000082969666\n",
      "Epoch 50, CIFAR-10 Batch 1:  Loss=0.4109727442264557 ValidationAccuracy=0.6966000199317932\n",
      "Epoch 50, CIFAR-10 Batch 2:  Loss=0.3659933805465698 ValidationAccuracy=0.7184000015258789\n",
      "Epoch 50, CIFAR-10 Batch 3:  Loss=0.2938196659088135 ValidationAccuracy=0.699400007724762\n",
      "Epoch 50, CIFAR-10 Batch 4:  Loss=0.2938159108161926 ValidationAccuracy=0.6769999861717224\n",
      "Epoch 50, CIFAR-10 Batch 5:  Loss=0.2848632335662842 ValidationAccuracy=0.703000009059906\n"
     ]
    }
   ],
   "source": [
    "\"\"\"\n",
    "DON'T MODIFY ANYTHING IN THIS CELL\n",
    "\"\"\"\n",
    "save_model_path = './image_classification'\n",
    "\n",
    "print('Training...')\n",
    "with tf.Session() as sess:\n",
    "    # Initializing the variables\n",
    "    sess.run(tf.global_variables_initializer())\n",
    "    \n",
    "    # Training cycle\n",
    "    for epoch in range(epochs):\n",
    "        # Loop over all batches\n",
    "        n_batches = 5\n",
    "        for batch_i in range(1, n_batches + 1):\n",
    "            for batch_features, batch_labels in helper.load_preprocess_training_batch(batch_i, batch_size):\n",
    "                train_neural_network(sess, optimizer, keep_probability, batch_features, batch_labels)\n",
    "            print('Epoch {:>2}, CIFAR-10 Batch {}:  '.format(epoch + 1, batch_i), end='')\n",
    "            print_stats(sess, batch_features, batch_labels, cost, accuracy)\n",
    "            \n",
    "    # Save Model\n",
    "    saver = tf.train.Saver()\n",
    "    save_path = saver.save(sess, save_model_path)"
   ]
  },
  {
   "cell_type": "markdown",
   "metadata": {},
   "source": [
    "# Checkpoint\n",
    "The model has been saved to disk.\n",
    "## Test Model\n",
    "Test your model against the test dataset.  This will be your final accuracy. You should have an accuracy greater than 50%. If you don't, keep tweaking the model architecture and parameters."
   ]
  },
  {
   "cell_type": "code",
   "execution_count": 58,
   "metadata": {},
   "outputs": [
    {
     "name": "stdout",
     "output_type": "stream",
     "text": [
      "INFO:tensorflow:Restoring parameters from ./image_classification\n",
      "Testing Accuracy: 0.689873417721519\n",
      "\n"
     ]
    },
    {
     "data": {
      "image/png": "[encoded data removed]",
      "text/plain": [
       "<matplotlib.figure.Figure at 0x1e3891b5390>"
      ]
     },
     "metadata": {
      "image/png": {
       "height": 319,
       "width": 355
      }
     },
     "output_type": "display_data"
    }
   ],
   "source": [
    "\"\"\"\n",
    "DON'T MODIFY ANYTHING IN THIS CELL\n",
    "\"\"\"\n",
    "%matplotlib inline\n",
    "%config InlineBackend.figure_format = 'retina'\n",
    "\n",
    "import tensorflow as tf\n",
    "import pickle\n",
    "import helper\n",
    "import random\n",
    "\n",
    "# Set batch size if not already set\n",
    "try:\n",
    "    if batch_size:\n",
    "        pass\n",
    "except NameError:\n",
    "    batch_size = 64\n",
    "\n",
    "save_model_path = './image_classification'\n",
    "n_samples = 4\n",
    "top_n_predictions = 3\n",
    "\n",
    "def test_model():\n",
    "    \"\"\"\n",
    "    Test the saved model against the test dataset\n",
    "    \"\"\"\n",
    "\n",
    "    test_features, test_labels = pickle.load(open('preprocess_test.p', mode='rb'))\n",
    "    loaded_graph = tf.Graph()\n",
    "\n",
    "    with tf.Session(graph=loaded_graph) as sess:\n",
    "        # Load model\n",
    "        loader = tf.train.import_meta_graph(save_model_path + '.meta')\n",
    "        loader.restore(sess, save_model_path)\n",
    "\n",
    "        # Get Tensors from loaded model\n",
    "        loaded_x = loaded_graph.get_tensor_by_name('x:0')\n",
    "        loaded_y = loaded_graph.get_tensor_by_name('y:0')\n",
    "        loaded_keep_prob = loaded_graph.get_tensor_by_name('keep_prob:0')\n",
    "        loaded_logits = loaded_graph.get_tensor_by_name('logits:0')\n",
    "        loaded_acc = loaded_graph.get_tensor_by_name('accuracy:0')\n",
    "        \n",
    "        # Get accuracy in batches for memory limitations\n",
    "        test_batch_acc_total = 0\n",
    "        test_batch_count = 0\n",
    "        \n",
    "        for test_feature_batch, test_label_batch in helper.batch_features_labels(test_features, test_labels, batch_size):\n",
    "            test_batch_acc_total += sess.run(\n",
    "                loaded_acc,\n",
    "                feed_dict={loaded_x: test_feature_batch, loaded_y: test_label_batch, loaded_keep_prob: 1.0})\n",
    "            test_batch_count += 1\n",
    "\n",
    "        print('Testing Accuracy: {}\\n'.format(test_batch_acc_total/test_batch_count))\n",
    "\n",
    "        # Print Random Samples\n",
    "        random_test_features, random_test_labels = tuple(zip(*random.sample(list(zip(test_features, test_labels)), n_samples)))\n",
    "        random_test_predictions = sess.run(\n",
    "            tf.nn.top_k(tf.nn.softmax(loaded_logits), top_n_predictions),\n",
    "            feed_dict={loaded_x: random_test_features, loaded_y: random_test_labels, loaded_keep_prob: 1.0})\n",
    "        helper.display_image_predictions(random_test_features, random_test_labels, random_test_predictions)\n",
    "\n",
    "\n",
    "test_model()"
   ]
  },
  {
   "cell_type": "markdown",
   "metadata": {},
   "source": [
    "## Why 50-80% Accuracy?\n",
    "You might be wondering why you can't get an accuracy any higher. First things first, 50% isn't bad for a simple CNN.  Pure guessing would get you 10% accuracy. However, you might notice people are getting scores [well above 80%](http://rodrigob.github.io/are_we_there_yet/build/classification_datasets_results.html#43494641522d3130).  That's because we haven't taught you all there is to know about neural networks. We still need to cover a few more techniques.\n",
    "## Submitting This Project\n",
    "When submitting this project, make sure to run all the cells before saving the notebook.  Save the notebook file as \"dlnd_image_classification.ipynb\" and save it as a HTML file under \"File\" -> \"Download as\".  Include the \"helper.py\" and \"problem_unittests.py\" files in your submission."
   ]
  },
  {
   "cell_type": "code",
   "execution_count": null,
   "metadata": {},
   "outputs": [],
   "source": []
  }
 ],
 "metadata": {
  "kernelspec": {
   "display_name": "Python 3",
   "language": "python",
   "name": "python3"
  },
  "language_info": {
   "codemirror_mode": {
    "name": "ipython",
    "version": 3
   },
   "file_extension": ".py",
   "mimetype": "text/x-python",
   "name": "python",
   "nbconvert_exporter": "python",
   "pygments_lexer": "ipython3",
   "version": "3.6.3"
  }
 },
 "nbformat": 4,
 "nbformat_minor": 1
}
